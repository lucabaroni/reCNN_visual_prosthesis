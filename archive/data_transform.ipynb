{
 "cells": [
  {
   "cell_type": "code",
   "execution_count": 1,
   "metadata": {},
   "outputs": [],
   "source": [
    "import pickle\n",
    "import pytorch_lightning as pl\n",
    "import numpy as np\n",
    "from torch.utils.data import DataLoader\n",
    "from torch.utils.data.sampler import SubsetRandomSampler\n",
    "import torch\n",
    "from neuralpredictors.data.samplers import SubsetSequentialSampler\n",
    "from typing import Optional\n",
    "import pathlib\n",
    "from torch.utils.data import Dataset\n",
    "from torchvision import transforms\n",
    "import matplotlib.pyplot as plt\n",
    "import math\n",
    "from experiments.utils import pickle_read\n",
    "from skimage.transform import resize\n",
    "\n",
    "def pickle_save(path, x):\n",
    "    with open(path, \"wb\") as f:\n",
    "        pickle.dump(x, f)\n"
   ]
  },
  {
   "cell_type": "code",
   "execution_count": 2,
   "metadata": {},
   "outputs": [],
   "source": [
    "path_old = \"/storage/brno2/home/mpicek/reCNN_visual_prosthesis/data/antolik\"\n",
    "path_new = \"/storage/brno2/home/mpicek/reCNN_visual_prosthesis/data/antolik_reparametrized\"\n",
    "\n",
    "pos_ex_path = \"/storage/brno2/home/mpicek/reCNN_visual_prosthesis/data/antolik_reparametrized/V1_Exc_L23/position.pickle\"\n",
    "pos_in_path = \"/storage/brno2/home/mpicek/reCNN_visual_prosthesis/data/antolik_reparametrized/V1_Inh_L23/position.pickle\"\n",
    "pos_ex_path_err = \"/storage/brno2/home/mpicek/reCNN_visual_prosthesis/data/antolik_reparametrized_error/V1_Exc_L23/position.pickle\"\n",
    "pos_in_path_err = \"/storage/brno2/home/mpicek/reCNN_visual_prosthesis/data/antolik_reparametrized_error/V1_Inh_L23/position.pickle\"\n",
    "# ori_path = \"/storage/budejovice1/home/mpicek/reCNN_visual_prosthesis/data/antolik/oris_new.pickle\"\n",
    "\n",
    "pos_old_path = \"/storage/budejovice1/home/mpicek/reCNN_visual_prosthesis/data/antolik/position_dictionary.pickle\"\n",
    "ori_old_path = \"/storage/budejovice1/home/mpicek/reCNN_visual_prosthesis/data/antolik/oris.pickle\"\n"
   ]
  },
  {
   "cell_type": "code",
   "execution_count": 3,
   "metadata": {},
   "outputs": [],
   "source": [
    "pos_ex = pickle_read(pos_ex_path)\n",
    "pos_in = pickle_read(pos_in_path)\n",
    "pos_ex_err = pickle_read(pos_ex_path_err)\n",
    "pos_in_err = pickle_read(pos_in_path_err)\n",
    "# ori = pickle_read(ori_path)\n",
    "pos_old = pickle_read(pos_old_path)\n",
    "old_ori = pickle_read(ori_old_path)"
   ]
  },
  {
   "cell_type": "code",
   "execution_count": 4,
   "metadata": {},
   "outputs": [
    {
     "name": "stdout",
     "output_type": "stream",
     "text": [
      "(2, 4000)\n"
     ]
    }
   ],
   "source": [
    "new_ex = np.zeros((2, 4000))\n",
    "new_in = np.zeros((2, 1000))\n",
    "new_ex[0,:] = pos_ex['x'].T\n",
    "new_ex[1,:] = pos_ex['y'].T\n",
    "new_in[0,:] = pos_in['x'].T\n",
    "new_in[1,:] = pos_in['y'].T\n",
    "\n",
    "print(new_ex.shape)"
   ]
  },
  {
   "cell_type": "code",
   "execution_count": 5,
   "metadata": {},
   "outputs": [],
   "source": [
    "new_pos = {}\n",
    "new_pos['V1_Exc_L2/3'] = new_ex\n",
    "new_pos['V1_Inh_L2/3'] = new_in\n",
    "pickle_save(\"/storage/budejovice1/home/mpicek/reCNN_visual_prosthesis/data/antolik/positions_reparametrized.pickle\", new_pos)"
   ]
  },
  {
   "cell_type": "code",
   "execution_count": 63,
   "metadata": {},
   "outputs": [
    {
     "data": {
      "text/plain": [
       "(3, 24000)"
      ]
     },
     "execution_count": 63,
     "metadata": {},
     "output_type": "execute_result"
    }
   ],
   "source": [
    "pos_old['V1_Exc_L2/3'].shape"
   ]
  },
  {
   "cell_type": "code",
   "execution_count": 79,
   "metadata": {},
   "outputs": [],
   "source": [
    "ori['V1_Exc_L2/3'] = list(ori['V1_Exc_L2/3'])\n",
    "ori['V1_Inh_L2/3'] = list(ori['V1_Inh_L2/3'])\n",
    "pickle_save(\"/storage/budejovice1/home/mpicek/reCNN_visual_prosthesis/data/antolik/oris_reparametrized.pickle\", ori)"
   ]
  },
  {
   "cell_type": "code",
   "execution_count": null,
   "metadata": {},
   "outputs": [],
   "source": []
  },
  {
   "cell_type": "code",
   "execution_count": 36,
   "metadata": {},
   "outputs": [],
   "source": [
    "ori = pickle_read(ori_path)"
   ]
  },
  {
   "cell_type": "code",
   "execution_count": 37,
   "metadata": {},
   "outputs": [
    {
     "data": {
      "text/plain": [
       "dict_keys(['V1_Inh_L2/3', 'V1_Exc_L2/3'])"
      ]
     },
     "execution_count": 37,
     "metadata": {},
     "output_type": "execute_result"
    }
   ],
   "source": [
    "ori.keys()\n"
   ]
  },
  {
   "cell_type": "code",
   "execution_count": 25,
   "metadata": {},
   "outputs": [],
   "source": [
    "out = np.concatenate([exc, inh])"
   ]
  },
  {
   "cell_type": "code",
   "execution_count": 44,
   "metadata": {},
   "outputs": [
    {
     "data": {
      "text/plain": [
       "0.0004692005529891574"
      ]
     },
     "execution_count": 44,
     "metadata": {},
     "output_type": "execute_result"
    }
   ],
   "source": [
    "exc.min()"
   ]
  },
  {
   "cell_type": "code",
   "execution_count": 11,
   "metadata": {},
   "outputs": [],
   "source": [
    "stim_p = path_new + \"/10trials/stimuli.pickle\"\n",
    "stim = pickle_read(stim_p)"
   ]
  },
  {
   "cell_type": "code",
   "execution_count": 12,
   "metadata": {},
   "outputs": [],
   "source": [
    "ex_p = path_new + \"/10trials/V1_Exc_L23/resp.pickle\"\n",
    "inh_p = path_new + \"/10trials/V1_Inh_L23/resp.pickle\"\n",
    "ex = pickle_read(ex_p)\n",
    "inh = pickle_read(inh_p)\n"
   ]
  },
  {
   "cell_type": "code",
   "execution_count": 19,
   "metadata": {},
   "outputs": [
    {
     "data": {
      "text/plain": [
       "(10, 500, 4000)"
      ]
     },
     "execution_count": 19,
     "metadata": {},
     "output_type": "execute_result"
    }
   ],
   "source": [
    "ex.shape"
   ]
  },
  {
   "cell_type": "code",
   "execution_count": 17,
   "metadata": {},
   "outputs": [
    {
     "data": {
      "text/plain": [
       "(500, 220, 220)"
      ]
     },
     "execution_count": 17,
     "metadata": {},
     "output_type": "execute_result"
    }
   ],
   "source": [
    "stim.shape"
   ]
  },
  {
   "cell_type": "code",
   "execution_count": 13,
   "metadata": {},
   "outputs": [
    {
     "data": {
      "text/plain": [
       "3.318381424042523"
      ]
     },
     "execution_count": 13,
     "metadata": {},
     "output_type": "execute_result"
    }
   ],
   "source": [
    "np.mean(np.std(ex[:,0,:]))"
   ]
  },
  {
   "cell_type": "code",
   "execution_count": 18,
   "metadata": {},
   "outputs": [
    {
     "name": "stdout",
     "output_type": "stream",
     "text": [
      "0.0\n",
      "1799339.8217468804\n",
      "1287272.121212121\n",
      "1455074.263322884\n",
      "1582610.077456176\n",
      "1324795.642135642\n",
      "1309608.2709447418\n",
      "1191727.2727272725\n",
      "1287831.7290552584\n",
      "2453206.883116883\n"
     ]
    }
   ],
   "source": [
    "for i in range(10):\n",
    "    # print(np.sum(np.abs(ex[0,0,:] - ex[i,0,:])))"
   ]
  },
  {
   "cell_type": "code",
   "execution_count": 21,
   "metadata": {},
   "outputs": [
    {
     "data": {
      "text/plain": [
       "0.0"
      ]
     },
     "execution_count": 21,
     "metadata": {},
     "output_type": "execute_result"
    }
   ],
   "source": [
    "np.sum(np.mean(ex[:,0,:] - ex[:,0,:]))"
   ]
  },
  {
   "cell_type": "code",
   "execution_count": 6,
   "metadata": {},
   "outputs": [
    {
     "data": {
      "text/plain": [
       "(500, 220, 220)"
      ]
     },
     "execution_count": 6,
     "metadata": {},
     "output_type": "execute_result"
    }
   ],
   "source": [
    "stim.shape"
   ]
  },
  {
   "cell_type": "code",
   "execution_count": 7,
   "metadata": {},
   "outputs": [
    {
     "data": {
      "text/plain": [
       "(10, 500, 4000)"
      ]
     },
     "execution_count": 7,
     "metadata": {},
     "output_type": "execute_result"
    }
   ],
   "source": [
    "ex.shape"
   ]
  },
  {
   "cell_type": "code",
   "execution_count": 9,
   "metadata": {},
   "outputs": [
    {
     "data": {
      "text/plain": [
       "0.0"
      ]
     },
     "execution_count": 9,
     "metadata": {},
     "output_type": "execute_result"
    }
   ],
   "source": [
    "ex.min()"
   ]
  },
  {
   "cell_type": "code",
   "execution_count": 20,
   "metadata": {},
   "outputs": [
    {
     "data": {
      "text/plain": [
       "(10, 500, 1000)"
      ]
     },
     "execution_count": 20,
     "metadata": {},
     "output_type": "execute_result"
    }
   ],
   "source": [
    "inh.shape"
   ]
  },
  {
   "cell_type": "code",
   "execution_count": 21,
   "metadata": {},
   "outputs": [],
   "source": [
    "indices = [i for i in range(stim.shape[0] * 10)]"
   ]
  },
  {
   "cell_type": "code",
   "execution_count": 22,
   "metadata": {},
   "outputs": [],
   "source": [
    "dic = {}"
   ]
  },
  {
   "cell_type": "code",
   "execution_count": 23,
   "metadata": {},
   "outputs": [],
   "source": [
    "index = 0\n",
    "for experiment in range(stim.shape[0]):\n",
    "    for trial in range(10):\n",
    "        dic[index] = {}\n",
    "        index += 1"
   ]
  },
  {
   "cell_type": "code",
   "execution_count": 24,
   "metadata": {},
   "outputs": [
    {
     "data": {
      "text/plain": [
       "5000"
      ]
     },
     "execution_count": 24,
     "metadata": {},
     "output_type": "execute_result"
    }
   ],
   "source": [
    "len(dic)\n"
   ]
  },
  {
   "cell_type": "code",
   "execution_count": 25,
   "metadata": {},
   "outputs": [],
   "source": [
    "index = 0\n",
    "for experiment in range(stim.shape[0]):\n",
    "    for trial in range(10):\n",
    "        downsampled = resize(stim[experiment], (stim[experiment].shape[0] // 2, stim[experiment].shape[1] // 2), anti_aliasing=True)\n",
    "        dic[index][\"stimulus\"] = downsampled\n",
    "        dic[index]['V1_Exc_L2/3'] = ex[trial, experiment, :]\n",
    "        dic[index]['V1_Inh_L2/3'] = inh[trial, experiment, :]\n",
    "        index += 1"
   ]
  },
  {
   "cell_type": "code",
   "execution_count": 26,
   "metadata": {},
   "outputs": [
    {
     "data": {
      "text/plain": [
       "(110, 110)"
      ]
     },
     "execution_count": 26,
     "metadata": {},
     "output_type": "execute_result"
    }
   ],
   "source": [
    "dic[0][\"stimulus\"].shape"
   ]
  },
  {
   "cell_type": "code",
   "execution_count": 27,
   "metadata": {},
   "outputs": [],
   "source": [
    "image = dic[0][\"stimulus\"]"
   ]
  },
  {
   "cell_type": "code",
   "execution_count": 31,
   "metadata": {},
   "outputs": [
    {
     "data": {
      "text/plain": [
       "<matplotlib.image.AxesImage at 0x148021f5bdf0>"
      ]
     },
     "execution_count": 31,
     "metadata": {},
     "output_type": "execute_result"
    },
    {
     "data": {
      "image/png": "[encoded data removed]",
      "text/plain": [
       "<Figure size 432x288 with 1 Axes>"
      ]
     },
     "metadata": {
      "needs_background": "light"
     },
     "output_type": "display_data"
    }
   ],
   "source": [
    "plt.imshow(dic[10][\"stimulus\"], cmap='gray')"
   ]
  },
  {
   "cell_type": "code",
   "execution_count": 32,
   "metadata": {},
   "outputs": [],
   "source": [
    "new_10_trials_path = \"/storage/brno2/home/mpicek/reCNN_visual_prosthesis/data/antolik_reparametrized/ten_trials.pickle\""
   ]
  },
  {
   "cell_type": "code",
   "execution_count": 33,
   "metadata": {},
   "outputs": [],
   "source": [
    "pickle_save(new_10_trials_path, dic)"
   ]
  },
  {
   "cell_type": "code",
   "execution_count": 18,
   "metadata": {},
   "outputs": [],
   "source": [
    "# old = pickle_read(path_old + \"/ten_trials.pickle\")"
   ]
  },
  {
   "cell_type": "code",
   "execution_count": 19,
   "metadata": {},
   "outputs": [],
   "source": [
    "# indices = [list(old.keys())[i] for i in range(len(old))]"
   ]
  },
  {
   "cell_type": "code",
   "execution_count": 20,
   "metadata": {},
   "outputs": [],
   "source": [
    "# np.sum(old[indices[10]][\"stimulus\"] - old[indices[19]][\"stimulus\"])"
   ]
  },
  {
   "cell_type": "code",
   "execution_count": 21,
   "metadata": {},
   "outputs": [],
   "source": [
    "ex_pos_path = path_new + \"/10trials/V1_Exc_L23/position.pickle\"\n",
    "inh_pos_path = path_new + \"/10trials/V1_Inh_L23/position.pickle\"\n",
    "ex_pos = pickle_read(ex_pos_path)\n",
    "inh_pos = pickle_read(inh_pos_path)"
   ]
  },
  {
   "cell_type": "code",
   "execution_count": 22,
   "metadata": {},
   "outputs": [],
   "source": [
    "ex_pos_path2 = path_new + \"/V1_Exc_L23/position.pickle\"\n",
    "inh_pos_path2 = path_new + \"/V1_Inh_L23/position.pickle\"\n",
    "ex_pos2 = pickle_read(ex_pos_path)\n",
    "inh_pos2 = pickle_read(inh_pos_path)"
   ]
  },
  {
   "cell_type": "code",
   "execution_count": 28,
   "metadata": {},
   "outputs": [
    {
     "data": {
      "text/plain": [
       "(4000,)"
      ]
     },
     "execution_count": 28,
     "metadata": {},
     "output_type": "execute_result"
    }
   ],
   "source": []
  },
  {
   "cell_type": "code",
   "execution_count": null,
   "metadata": {},
   "outputs": [],
   "source": []
  },
  {
   "cell_type": "code",
   "execution_count": 34,
   "metadata": {},
   "outputs": [
    {
     "data": {
      "text/plain": [
       "0.0"
      ]
     },
     "execution_count": 34,
     "metadata": {},
     "output_type": "execute_result"
    },
    {
     "ename": "",
     "evalue": "",
     "output_type": "error",
     "traceback": [
      "\u001b[1;31mThe Kernel crashed while executing code in the the current cell or a previous cell. Please review the code in the cell(s) to identify a possible cause of the failure. Click <a href='https://aka.ms/vscodeJupyterKernelCrash'>here</a> for more info. View Jupyter <a href='command:jupyter.viewOutput'>log</a> for further details."
     ]
    }
   ],
   "source": [
    "np.sum(np.abs(inh_pos['x'] - inh_pos2['x']))"
   ]
  }
 ],
 "metadata": {
  "kernelspec": {
   "display_name": "Python 3",
   "language": "python",
   "name": "python3"
  },
  "language_info": {
   "codemirror_mode": {
    "name": "ipython",
    "version": 3
   },
   "file_extension": ".py",
   "mimetype": "text/x-python",
   "name": "python",
   "nbconvert_exporter": "python",
   "pygments_lexer": "ipython3",
   "version": "3.8.8"
  },
  "orig_nbformat": 4
 },
 "nbformat": 4,
 "nbformat_minor": 2
}
