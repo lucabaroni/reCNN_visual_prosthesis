{
 "cells": [
  {
   "cell_type": "code",
   "execution_count": 13,
   "metadata": {},
   "outputs": [],
   "source": [
    "from model_trainer import run_training_without_logging\n",
    "from models import reCNN_bottleneck_CyclicGauss3d_no_scaling\n",
    "from model_trainer import Lurz_dataset_preparation_function, Antolik_dataset_preparation_function\n",
    "\n",
    "\n",
    "ENTITY = \"csng-cuni\"\n",
    "PROJECT = \"reCNN_visual_prosthesis\"\n",
    "\n",
    "model = None\n",
    "\n",
    "config = {\n",
    "    # GENERAL\n",
    "    \"seed\": 42,\n",
    "    \"batch_size\": 10,\n",
    "    \"lr\": 0.001,\n",
    "    \"max_epochs\": 1,\n",
    "\n",
    "    # CORE GENERAL CONFIG\n",
    "    \"core_hidden_channels\": 8,\n",
    "    \"core_layers\": 5,\n",
    "    \"core_input_kern\": 7,\n",
    "    \"core_hidden_kern\": 9,\n",
    "\n",
    "    # ROTATION EQUIVARIANCE CORE CONFIG\n",
    "    \"num_rotations\": 8,       \n",
    "    \"stride\": 1,               \n",
    "    \"upsampling\": 2,           \n",
    "    \"rot_eq_batch_norm\": True, \n",
    "    \"stack\": -1 ,               \n",
    "    \"depth_separable\": True,\n",
    "\n",
    "    # READOUT CONFIG\n",
    "    \"readout_bias\": False,\n",
    "    \"nonlinearity\": \"softplus\",\n",
    "    \n",
    "    # REGULARIZATION\n",
    "    \"core_gamma_input\": 0.00307424496692959,\n",
    "    \"core_gamma_hidden\": 0.28463619129195233,\n",
    "    \"readout_gamma\": 0.17,\n",
    "    \"input_regularizer\": \"LaplaceL2norm\", # for RotEqCore - default \n",
    "    \"use_avg_reg\": True,\n",
    "\n",
    "    \"reg_readout_spatial_smoothness\": 0.0027,\n",
    "    \"reg_group_sparsity\": 0.1,\n",
    "    \"reg_spatial_sparsity\": 0.45,\n",
    "\n",
    "    # TRAINER\n",
    "    \"patience\": 10,\n",
    "    \"train_on_val\": True, # in case you want to quickly check that your model \"compiles\" correctly\n",
    "    \"test\": True,\n",
    "    \"observed_val_metric\": \"val/corr\",\n",
    "\n",
    "    \"test_average_batch\": False,\n",
    "    \"compute_oracle_fraction\": False,\n",
    "    \"conservative_oracle\": True,\n",
    "    \"jackknife_oracle\": True,\n",
    "    \"generate_oracle_figure\": False,\n",
    "\n",
    "    # ANTOLIK\n",
    "    \"region\": \"region1\",\n",
    "    \"dataset_artifact_name\": \"Antolik_dataset:latest\",\n",
    "\n",
    "    # BOTTLENECK\n",
    "    \"bottleneck_kernel\": 15,\n",
    "\n",
    "    \"fixed_sigma\": False,\n",
    "    \"init_mu_range\": 0.9,\n",
    "    \"init_sigma_range\": 0.8,\n",
    "\n",
    "}\n",
    "\n"
   ]
  },
  {
   "cell_type": "code",
   "execution_count": 14,
   "metadata": {},
   "outputs": [
    {
     "name": "stdout",
     "output_type": "stream",
     "text": [
      "12px will be discarded from each side.\n",
      "Data loaded successfully!\n",
      "Loaded precomputed mean from /storage/brno2/home/mpicek/reCNN_visual_prosthesis/data/antolik/ten_trials_mean.npy\n"
     ]
    }
   ],
   "source": [
    "from Antolik_dataset import AntolikDataModule\n",
    "\n",
    "path_train = \"/storage/brno2/home/mpicek/reCNN_visual_prosthesis/data/antolik/one_trials.pickle\"\n",
    "path_test = \"/storage/brno2/home/mpicek/reCNN_visual_prosthesis/data/antolik/ten_trials.pickle\"\n",
    "\n",
    "dataset_config = {\n",
    "    \"train_data_dir\": path_test,\n",
    "    \"test_data_dir\": path_test,\n",
    "    \"batch_size\": config[\"batch_size\"],\n",
    "    \"normalize\": True,\n",
    "    \"val_size\": 500,\n",
    "    \"brain_crop\": 0.8,\n",
    "    \"stimulus_crop\": \"auto\",\n",
    "    \"ground_truth_positions_file_path\": \"data/antolik/position_dictionary.pickle\",\n",
    "}\n",
    "\n",
    "\n",
    "dm = AntolikDataModule(**dataset_config)\n",
    "dm.prepare_data()\n",
    "dm.setup()\n",
    "\n",
    "# update config for initialization of model (<- certain config parameters depend on data)\n",
    "config.update(\n",
    "    {\n",
    "        \"input_channels\": dm.get_input_shape()[0],\n",
    "        \"input_size_x\": dm.get_input_shape()[1],\n",
    "        \"input_size_y\": dm.get_input_shape()[2],\n",
    "        \"num_neurons\": dm.get_output_shape()[0],\n",
    "        \"mean_activity\": dm.get_mean(),\n",
    "    }\n",
    ")"
   ]
  },
  {
   "cell_type": "code",
   "execution_count": 15,
   "metadata": {},
   "outputs": [
    {
     "data": {
      "text/plain": [
       "4714"
      ]
     },
     "execution_count": 15,
     "metadata": {},
     "output_type": "execute_result"
    }
   ],
   "source": [
    "dm.get_output_shape()[0]"
   ]
  },
  {
   "cell_type": "code",
   "execution_count": 16,
   "metadata": {},
   "outputs": [
    {
     "name": "stdout",
     "output_type": "stream",
     "text": [
      "{'batch_size': 10,\n",
      " 'bottleneck_kernel': 15,\n",
      " 'compute_oracle_fraction': False,\n",
      " 'conservative_oracle': True,\n",
      " 'core_gamma_hidden': 0.28463619129195233,\n",
      " 'core_gamma_input': 0.00307424496692959,\n",
      " 'core_hidden_channels': 8,\n",
      " 'core_hidden_kern': 9,\n",
      " 'core_input_kern': 7,\n",
      " 'core_layers': 5,\n",
      " 'dataset_artifact_name': 'Antolik_dataset:latest',\n",
      " 'depth_separable': True,\n",
      " 'fixed_sigma': False,\n",
      " 'generate_oracle_figure': False,\n",
      " 'init_mu_range': 0.9,\n",
      " 'init_sigma_range': 0.8,\n",
      " 'input_channels': 1,\n",
      " 'input_regularizer': 'LaplaceL2norm',\n",
      " 'input_size_x': 86,\n",
      " 'input_size_y': 86,\n",
      " 'jackknife_oracle': True,\n",
      " 'lr': 0.001,\n",
      " 'max_epochs': 1,\n",
      " 'mean_activity': tensor([0.2360, 0.1985, 0.2985,  ..., 1.5215, 1.7172, 1.6257]),\n",
      " 'nonlinearity': 'softplus',\n",
      " 'num_neurons': 4714,\n",
      " 'num_rotations': 8,\n",
      " 'observed_val_metric': 'val/corr',\n",
      " 'patience': 10,\n",
      " 'readout_bias': False,\n",
      " 'readout_gamma': 0.17,\n",
      " 'reg_group_sparsity': 0.1,\n",
      " 'reg_readout_spatial_smoothness': 0.0027,\n",
      " 'reg_spatial_sparsity': 0.45,\n",
      " 'region': 'region1',\n",
      " 'rot_eq_batch_norm': True,\n",
      " 'seed': 42,\n",
      " 'stack': -1,\n",
      " 'stride': 1,\n",
      " 'test': True,\n",
      " 'test_average_batch': False,\n",
      " 'train_on_val': True,\n",
      " 'upsampling': 2,\n",
      " 'use_avg_reg': True}\n"
     ]
    }
   ],
   "source": [
    "from pprint import pprint\n",
    "pprint(config)"
   ]
  },
  {
   "cell_type": "code",
   "execution_count": 17,
   "metadata": {},
   "outputs": [
    {
     "name": "stderr",
     "output_type": "stream",
     "text": [
      "Global seed set to 42\n"
     ]
    },
    {
     "name": "stdout",
     "output_type": "stream",
     "text": [
      "{'batch_size': 10,\n",
      " 'bottleneck_kernel': 15,\n",
      " 'compute_oracle_fraction': False,\n",
      " 'conservative_oracle': True,\n",
      " 'core_gamma_hidden': 0.28463619129195233,\n",
      " 'core_gamma_input': 0.00307424496692959,\n",
      " 'core_hidden_channels': 8,\n",
      " 'core_hidden_kern': 9,\n",
      " 'core_input_kern': 7,\n",
      " 'core_layers': 5,\n",
      " 'dataset_artifact_name': 'Antolik_dataset:latest',\n",
      " 'depth_separable': True,\n",
      " 'fixed_sigma': False,\n",
      " 'generate_oracle_figure': False,\n",
      " 'init_mu_range': 0.9,\n",
      " 'init_sigma_range': 0.8,\n",
      " 'input_channels': 1,\n",
      " 'input_regularizer': 'LaplaceL2norm',\n",
      " 'input_size_x': 86,\n",
      " 'input_size_y': 86,\n",
      " 'jackknife_oracle': True,\n",
      " 'lr': 0.001,\n",
      " 'max_epochs': 1,\n",
      " 'mean_activity': tensor([0.2360, 0.1985, 0.2985,  ..., 1.5215, 1.7172, 1.6257]),\n",
      " 'nonlinearity': 'softplus',\n",
      " 'num_neurons': 4714,\n",
      " 'num_rotations': 8,\n",
      " 'observed_val_metric': 'val/corr',\n",
      " 'patience': 10,\n",
      " 'readout_bias': False,\n",
      " 'readout_gamma': 0.17,\n",
      " 'reg_group_sparsity': 0.1,\n",
      " 'reg_readout_spatial_smoothness': 0.0027,\n",
      " 'reg_spatial_sparsity': 0.45,\n",
      " 'region': 'region1',\n",
      " 'rot_eq_batch_norm': True,\n",
      " 'seed': 42,\n",
      " 'stack': -1,\n",
      " 'stride': 1,\n",
      " 'test': True,\n",
      " 'test_average_batch': False,\n",
      " 'train_on_val': True,\n",
      " 'upsampling': 2,\n",
      " 'use_avg_reg': True}\n",
      "12px will be discarded from each side.\n",
      "Data loaded successfully!\n"
     ]
    },
    {
     "name": "stderr",
     "output_type": "stream",
     "text": [
      "/opt/conda/lib/python3.8/site-packages/neuralpredictors/measures/modules.py:78: UserWarning: Poissonloss is averaged per batch. It's recommended to use `sum` instead\n",
      "  warnings.warn(\"Poissonloss is averaged per batch. It's recommended to use `sum` instead\")\n",
      "/opt/conda/lib/python3.8/site-packages/neuralpredictors/layers/cores/conv2d.py:128: UserWarning: The averaged value of regularizer will be used.\n",
      "  warnings.warn(\"The averaged value of regularizer will be used.\", UserWarning)\n",
      "/auto/budejovice1/mpicek/reCNN_visual_prosthesis/readout.py:304: UserWarning: sigma is sampled from uniform distribuiton, instead of a fixed value. Consider setting fixed_sigma to True\n",
      "  warnings.warn(\n",
      "/opt/conda/lib/python3.8/site-packages/pytorch_lightning/callbacks/progress/progress.py:21: LightningDeprecationWarning: `ProgressBar` has been deprecated in v1.5 and will be removed in v1.7. It has been renamed to `TQDMProgressBar` instead.\n",
      "  rank_zero_deprecation(\n",
      "GPU available: True, used: True\n",
      "TPU available: False, using: 0 TPU cores\n",
      "IPU available: False, using: 0 IPUs\n"
     ]
    },
    {
     "name": "stdout",
     "output_type": "stream",
     "text": [
      "Loaded precomputed mean from /storage/brno2/home/mpicek/reCNN_visual_prosthesis/data/antolik/ten_trials_mean.npy\n"
     ]
    },
    {
     "name": "stderr",
     "output_type": "stream",
     "text": [
      "LOCAL_RANK: 0 - CUDA_VISIBLE_DEVICES: [GPU-78cbf6b9-71e3-3f13-3119-6e49ac6f7aef]\n",
      "\n",
      "  | Name    | Type                                | Params\n",
      "----------------------------------------------------------------\n",
      "0 | loss    | PoissonLoss                         | 0     \n",
      "1 | corr    | Corr                                | 0     \n",
      "2 | core    | RotationEquivariant2dCoreBottleneck | 458 K \n",
      "3 | readout | Gaussian3dCyclicNoScale             | 33.0 K\n",
      "4 | nonlin  | Softplus                            | 0     \n",
      "----------------------------------------------------------------\n",
      "133 K     Trainable params\n",
      "358 K     Non-trainable params\n",
      "491 K     Total params\n",
      "1.965     Total estimated model params size (MB)\n"
     ]
    },
    {
     "name": "stdout",
     "output_type": "stream",
     "text": [
      "Validation sanity check: 100%|██████████| 2/2 [00:00<00:00, 13.00it/s]"
     ]
    },
    {
     "name": "stderr",
     "output_type": "stream",
     "text": [
      "/opt/conda/lib/python3.8/site-packages/pytorch_lightning/trainer/data_loading.py:452: UserWarning: Your `val_dataloader` has `shuffle=True`,it is strongly recommended that you turn this off for val/test/predict dataloaders.\n",
      "  rank_zero_warn(\n",
      "/opt/conda/lib/python3.8/site-packages/pytorch_lightning/trainer/data_loading.py:110: UserWarning: The dataloader, val_dataloader 0, does not have many workers which may be a bottleneck. Consider increasing the value of the `num_workers` argument` (try 64 which is the number of cpus on this machine) in the `DataLoader` init to improve performance.\n",
      "  rank_zero_warn(\n"
     ]
    },
    {
     "name": "stdout",
     "output_type": "stream",
     "text": [
      "                                                                      "
     ]
    },
    {
     "name": "stderr",
     "output_type": "stream",
     "text": [
      "Global seed set to 42\n",
      "/opt/conda/lib/python3.8/site-packages/pytorch_lightning/trainer/data_loading.py:110: UserWarning: The dataloader, train_dataloader, does not have many workers which may be a bottleneck. Consider increasing the value of the `num_workers` argument` (try 64 which is the number of cpus on this machine) in the `DataLoader` init to improve performance.\n",
      "  rank_zero_warn(\n"
     ]
    },
    {
     "name": "stdout",
     "output_type": "stream",
     "text": [
      "Epoch 0: 100%|██████████| 100/100 [00:22<00:00,  4.51it/s, loss=1.22]\n",
      "Best model's val/corr: 0.0064005638\n",
      "/auto/budejovice1/mpicek/reCNN_visual_prosthesis/lightning_logs/version_16/checkpoints/epoch=0-step=49.ckpt\n"
     ]
    },
    {
     "name": "stderr",
     "output_type": "stream",
     "text": [
      "LOCAL_RANK: 0 - CUDA_VISIBLE_DEVICES: [GPU-78cbf6b9-71e3-3f13-3119-6e49ac6f7aef]\n",
      "/opt/conda/lib/python3.8/site-packages/pytorch_lightning/trainer/data_loading.py:452: UserWarning: Your `test_dataloader` has `shuffle=True`,it is strongly recommended that you turn this off for val/test/predict dataloaders.\n",
      "  rank_zero_warn(\n",
      "/opt/conda/lib/python3.8/site-packages/pytorch_lightning/trainer/data_loading.py:110: UserWarning: The dataloader, test_dataloader 0, does not have many workers which may be a bottleneck. Consider increasing the value of the `num_workers` argument` (try 64 which is the number of cpus on this machine) in the `DataLoader` init to improve performance.\n",
      "  rank_zero_warn(\n"
     ]
    },
    {
     "name": "stdout",
     "output_type": "stream",
     "text": [
      "Testing: 100%|██████████| 50/50 [00:03<00:00, 13.80it/s]\n"
     ]
    },
    {
     "name": "stderr",
     "output_type": "stream",
     "text": [
      "LOCAL_RANK: 0 - CUDA_VISIBLE_DEVICES: [GPU-78cbf6b9-71e3-3f13-3119-6e49ac6f7aef]\n"
     ]
    },
    {
     "name": "stdout",
     "output_type": "stream",
     "text": [
      "Testing: 100%|██████████| 500/500 [00:36<00:00, 13.64it/s]\n"
     ]
    },
    {
     "name": "stderr",
     "output_type": "stream",
     "text": [
      "LOCAL_RANK: 0 - CUDA_VISIBLE_DEVICES: [GPU-78cbf6b9-71e3-3f13-3119-6e49ac6f7aef]\n"
     ]
    },
    {
     "name": "stdout",
     "output_type": "stream",
     "text": [
      "Testing: 100%|██████████| 500/500 [00:08<00:00, 60.94it/s]\n",
      "Validation dataset:\n",
      "    Correlation: 0.0064 \n",
      "Test dataset with averaged responses of repeated trials:\n",
      "    Correlation: 0.0136 \n",
      "    Fraction oracle conservative: 0.0314 \n",
      "    Fraction oracle jackknife: 0.0564 \n"
     ]
    }
   ],
   "source": [
    "model = run_training_without_logging(config, Antolik_dataset_preparation_function, ENTITY, PROJECT, model_class=reCNN_bottleneck_CyclicGauss3d_no_scaling)"
   ]
  },
  {
   "cell_type": "code",
   "execution_count": null,
   "metadata": {},
   "outputs": [],
   "source": []
  }
 ],
 "metadata": {
  "kernelspec": {
   "display_name": "Python 3",
   "language": "python",
   "name": "python3"
  },
  "language_info": {
   "name": "python",
   "version": "3.9.2"
  },
  "orig_nbformat": 4,
  "vscode": {
   "interpreter": {
    "hash": "916dbcbb3f70747c44a77c7bcd40155683ae19c65e1c03b4aa3499c5328201f1"
   }
  }
 },
 "nbformat": 4,
 "nbformat_minor": 2
}
