{
 "cells": [
  {
   "cell_type": "code",
   "execution_count": 1,
   "metadata": {},
   "outputs": [],
   "source": [
    "import torch\n",
    "import numpy as np\n",
    "from experiments.utils import pickle_read\n",
    "import matplotlib.pyplot as plt\n",
    "import matplotlib.cm as cm\n",
    "from torchvision.utils import make_grid\n",
    "\n",
    "from pytorch_lightning.loggers import WandbLogger\n",
    "from pytorch_lightning.callbacks import EarlyStopping\n",
    "from pytorch_lightning.callbacks import ModelCheckpoint\n",
    "from pytorch_lightning.callbacks.progress import ProgressBar\n",
    "import pytorch_lightning as pl\n",
    "from neuralpredictors.measures.modules import Corr, PoissonLoss\n",
    "from torch.nn import Parameter\n",
    "from energy_model.lucas_gabor_filter import GaborFilter\n",
    "from energy_model.utils import plot_f, create_grating\n",
    "from energy_model.energy_model import EnergyModel\n"
   ]
  },
  {
   "cell_type": "code",
   "execution_count": 2,
   "metadata": {},
   "outputs": [],
   "source": [
    "\n",
    "ENTITY = \"csng-cuni\"\n",
    "PROJECT = \"reCNN_visual_prosthesis\"\n",
    "ground_truth_positions_file_path = \"data/antolik/position_dictionary.pickle\"\n",
    "ground_truth_orientations_file_path = \"data/antolik/oris.pickle\"\n",
    "\n",
    "model = None\n",
    "\n",
    "config = {\n",
    "    # GENERAL\n",
    "    \"seed\": 42,\n",
    "    \"batch_size\": 500,\n",
    "    \"lr\": 0.01,\n",
    "    \"max_epochs\": 5,\n",
    "\n",
    "    # CORE GENERAL CONFIG\n",
    "    \"core_hidden_channels\": 8,\n",
    "    \"core_layers\": 5,\n",
    "    \"core_input_kern\": 7,\n",
    "    \"core_hidden_kern\": 9,\n",
    "\n",
    "    # ROTATION EQUIVARIANCE CORE CONFIG\n",
    "    \"num_rotations\": 8,       \n",
    "    \"stride\": 1,               \n",
    "    \"upsampling\": 2,           \n",
    "    \"rot_eq_batch_norm\": True, \n",
    "    \"stack\": -1 ,               \n",
    "    \"depth_separable\": True,\n",
    "\n",
    "    # READOUT CONFIG\n",
    "    \"readout_bias\": False,\n",
    "    \"nonlinearity\": \"softplus\",\n",
    "    \n",
    "    # REGULARIZATION\n",
    "    \"core_gamma_input\": 0.00307424496692959,\n",
    "    \"core_gamma_hidden\": 0.28463619129195233,\n",
    "    \"readout_gamma\": 0.17,\n",
    "    \"input_regularizer\": \"LaplaceL2norm\", # for RotEqCore - default \n",
    "    \"use_avg_reg\": True,\n",
    "\n",
    "    \"reg_readout_spatial_smoothness\": 0.0027,\n",
    "    \"reg_group_sparsity\": 0.1,\n",
    "    \"reg_spatial_sparsity\": 0.45,\n",
    "\n",
    "    # TRAINER\n",
    "    \"patience\": 40,\n",
    "    \"train_on_val\": True, # in case you want to quickly check that your model \"compiles\" correctly\n",
    "    \"test\": True,\n",
    "    \"observed_val_metric\": \"val/corr\",\n",
    "\n",
    "    \"test_average_batch\": False,\n",
    "    \"compute_oracle_fraction\": False,\n",
    "    \"conservative_oracle\": True,\n",
    "    \"jackknife_oracle\": True,\n",
    "    \"generate_oracle_figure\": False,\n",
    "\n",
    "    # ANTOLIK\n",
    "    \"region\": \"region1\",\n",
    "    \"dataset_artifact_name\": \"Antolik_dataset:latest\",\n",
    "\n",
    "    # BOTTLENECK\n",
    "    \"bottleneck_kernel\": 15,\n",
    "\n",
    "    \"fixed_sigma\": False,\n",
    "    \"init_mu_range\": 0.9,\n",
    "    \"init_sigma_range\": 0.8,\n",
    "\n",
    "}"
   ]
  },
  {
   "cell_type": "code",
   "execution_count": 3,
   "metadata": {},
   "outputs": [],
   "source": [
    "from Antolik_dataset import AntolikDataModule\n",
    "\n",
    "path_train = \"/storage/brno2/home/mpicek/reCNN_visual_prosthesis/data/antolik/one_trials.pickle\"\n",
    "path_test = \"/storage/brno2/home/mpicek/reCNN_visual_prosthesis/data/antolik/ten_trials.pickle\"\n",
    "\n",
    "dataset_config = {\n",
    "    \"train_data_dir\": path_test,\n",
    "    \"test_data_dir\": path_test,\n",
    "    \"batch_size\": config[\"batch_size\"],\n",
    "    \"normalize\": True,\n",
    "    \"val_size\": 500,\n",
    "    \"brain_crop\": 0.8,\n",
    "    \"stimulus_crop\": \"auto\",\n",
    "    # \"stimulus_crop\": [110, 110],\n",
    "    \"ground_truth_path\": \"data/antolik/position_dictionary.pickle\",\n",
    "}\n"
   ]
  },
  {
   "cell_type": "code",
   "execution_count": 4,
   "metadata": {},
   "outputs": [
    {
     "name": "stdout",
     "output_type": "stream",
     "text": [
      "12px will be discarded from each side.\n"
     ]
    }
   ],
   "source": [
    "dm = AntolikDataModule(**dataset_config)\n"
   ]
  },
  {
   "cell_type": "code",
   "execution_count": 5,
   "metadata": {},
   "outputs": [
    {
     "name": "stdout",
     "output_type": "stream",
     "text": [
      "Data loaded successfully!\n"
     ]
    }
   ],
   "source": [
    "dm.prepare_data()\n",
    "dm.setup()"
   ]
  },
  {
   "cell_type": "code",
   "execution_count": 6,
   "metadata": {},
   "outputs": [
    {
     "name": "stdout",
     "output_type": "stream",
     "text": [
      "Loaded precomputed mean from /storage/brno2/home/mpicek/reCNN_visual_prosthesis/data/antolik/ten_trials_mean.npy\n"
     ]
    }
   ],
   "source": [
    "config.update(\n",
    "        {\n",
    "            \"input_channels\": dm.get_input_shape()[0],\n",
    "            \"input_size_x\": dm.get_input_shape()[1],\n",
    "            \"input_size_y\": dm.get_input_shape()[2],\n",
    "            \"num_neurons\": dm.get_output_shape()[0],\n",
    "            \"mean_activity\": dm.get_mean(),\n",
    "            \"filtered_neurons\":dm.get_filtered_neurons(),\n",
    "        }\n",
    "    )"
   ]
  },
  {
   "cell_type": "code",
   "execution_count": 7,
   "metadata": {},
   "outputs": [
    {
     "name": "stderr",
     "output_type": "stream",
     "text": [
      "/opt/conda/lib/python3.8/site-packages/neuralpredictors/measures/modules.py:78: UserWarning: Poissonloss is averaged per batch. It's recommended to use `sum` instead\n",
      "  warnings.warn(\"Poissonloss is averaged per batch. It's recommended to use `sum` instead\")\n"
     ]
    }
   ],
   "source": [
    "\n",
    "resolution = (dm.get_input_shape()[1], dm.get_input_shape()[2])\n",
    "xlim = [-dm.get_stimulus_visual_angle()/2, dm.get_stimulus_visual_angle()/2]\n",
    "ylim = [-dm.get_stimulus_visual_angle()/2, dm.get_stimulus_visual_angle()/2]\n",
    "\n",
    "pos_x, pos_y, orientations = dm.get_ground_truth(ground_truth_positions_file_path, ground_truth_orientations_file_path)\n",
    "\n",
    "model = EnergyModel(pos_x, pos_y, orientations, resolution, xlim, ylim, default_ori_shift=90, learning_rate=0.01, counter_clockwise_rotation=True, multivariate=True, **config)\n"
   ]
  },
  {
   "cell_type": "code",
   "execution_count": 8,
   "metadata": {},
   "outputs": [],
   "source": [
    "config.update(\n",
    "    {\n",
    "        \"ground_truth_positions_file_path\": \"data/antolik/position_dictionary.pickle\",\n",
    "        \"ground_truth_orientations_file_path\": \"data/antolik/oris.pickle\",\n",
    "        \"init_to_ground_truth_positions\": True,\n",
    "        \"init_to_ground_truth_orientations\": True,\n",
    "        \"freeze_positions\": False,\n",
    "        \"freeze_orientations\": False,\n",
    "        \"orientation_shift\": 87.4,\n",
    "        \"factor\": 5.5,\n",
    "        \"sample\": False,\n",
    "        \"filtered_neurons\":None,\n",
    "    }\n",
    ")"
   ]
  },
  {
   "cell_type": "code",
   "execution_count": 9,
   "metadata": {},
   "outputs": [],
   "source": [
    "\n",
    "\n",
    "early_stopping_monitor=\"val/corr\"\n",
    "early_stopping_mode=\"max\"\n",
    "model_checkpoint_monitor=\"val/corr\"\n",
    "model_checkpoint_mode=\"max\"\n",
    "\n",
    "use_wandb = True\n"
   ]
  },
  {
   "cell_type": "code",
   "execution_count": 10,
   "metadata": {},
   "outputs": [
    {
     "name": "stderr",
     "output_type": "stream",
     "text": [
      "Global seed set to 42\n",
      "Failed to detect the name of this notebook, you can set it manually with the WANDB_NOTEBOOK_NAME environment variable to enable code saving.\n",
      "\u001b[34m\u001b[1mwandb\u001b[0m: Currently logged in as: \u001b[33mcsng-cuni\u001b[0m (use `wandb login --relogin` to force relogin)\n",
      "\u001b[34m\u001b[1mwandb\u001b[0m: wandb version 0.13.5 is available!  To upgrade, please run:\n",
      "\u001b[34m\u001b[1mwandb\u001b[0m:  $ pip install wandb --upgrade\n"
     ]
    },
    {
     "data": {
      "text/html": [
       "\n",
       "                    Syncing run <strong><a href=\"https://wandb.ai/csng-cuni/reCNN_visual_prosthesis/runs/3gjbu8e3\" target=\"_blank\">swift-dew-166</a></strong> to <a href=\"https://wandb.ai/csng-cuni/reCNN_visual_prosthesis\" target=\"_blank\">Weights & Biases</a> (<a href=\"https://docs.wandb.com/integrations/jupyter.html\" target=\"_blank\">docs</a>).<br/>\n",
       "\n",
       "                "
      ],
      "text/plain": [
       "<IPython.core.display.HTML object>"
      ]
     },
     "metadata": {},
     "output_type": "display_data"
    },
    {
     "name": "stderr",
     "output_type": "stream",
     "text": [
      "/opt/conda/lib/python3.8/site-packages/pytorch_lightning/loggers/wandb.py:341: UserWarning: There is a wandb run already in progress and newly created instances of `WandbLogger` will reuse this run. If this is not desired, call `wandb.finish()` before instantiating `WandbLogger`.\n",
      "  rank_zero_warn(\n",
      "\u001b[34m\u001b[1mwandb\u001b[0m: logging graph, to disable use `wandb.watch(log_graph=False)`\n",
      "/opt/conda/lib/python3.8/site-packages/pytorch_lightning/callbacks/progress/progress.py:21: LightningDeprecationWarning: `ProgressBar` has been deprecated in v1.5 and will be removed in v1.7. It has been renamed to `TQDMProgressBar` instead.\n",
      "  rank_zero_deprecation(\n",
      "GPU available: True, used: True\n",
      "TPU available: False, using: 0 TPU cores\n",
      "IPU available: False, using: 0 IPUs\n"
     ]
    },
    {
     "name": "stdout",
     "output_type": "stream",
     "text": [
      "{'batch_size': 500,\n",
      " 'bottleneck_kernel': 15,\n",
      " 'compute_oracle_fraction': False,\n",
      " 'conservative_oracle': True,\n",
      " 'core_gamma_hidden': 0.28463619129195233,\n",
      " 'core_gamma_input': 0.00307424496692959,\n",
      " 'core_hidden_channels': 8,\n",
      " 'core_hidden_kern': 9,\n",
      " 'core_input_kern': 7,\n",
      " 'core_layers': 5,\n",
      " 'dataset_artifact_name': 'Antolik_dataset:latest',\n",
      " 'depth_separable': True,\n",
      " 'factor': 5.5,\n",
      " 'filtered_neurons': None,\n",
      " 'fixed_sigma': False,\n",
      " 'freeze_orientations': False,\n",
      " 'freeze_positions': False,\n",
      " 'generate_oracle_figure': False,\n",
      " 'ground_truth_orientations_file_path': 'data/antolik/oris.pickle',\n",
      " 'ground_truth_positions_file_path': 'data/antolik/position_dictionary.pickle',\n",
      " 'init_mu_range': 0.9,\n",
      " 'init_sigma_range': 0.8,\n",
      " 'init_to_ground_truth_orientations': True,\n",
      " 'init_to_ground_truth_positions': True,\n",
      " 'input_channels': 1,\n",
      " 'input_regularizer': 'LaplaceL2norm',\n",
      " 'input_size_x': 86,\n",
      " 'input_size_y': 86,\n",
      " 'jackknife_oracle': True,\n",
      " 'lr': 0.01,\n",
      " 'max_epochs': 5,\n",
      " 'mean_activity': '[0.236   0.1985  0.2985  ... 1.5215  1.71725 1.62575]',\n",
      " 'nonlinearity': 'softplus',\n",
      " 'num_neurons': 4714,\n",
      " 'num_rotations': 8,\n",
      " 'observed_val_metric': 'val/corr',\n",
      " 'orientation_shift': 87.4,\n",
      " 'patience': 40,\n",
      " 'readout_bias': False,\n",
      " 'readout_gamma': 0.17,\n",
      " 'reg_group_sparsity': 0.1,\n",
      " 'reg_readout_spatial_smoothness': 0.0027,\n",
      " 'reg_spatial_sparsity': 0.45,\n",
      " 'region': 'region1',\n",
      " 'rot_eq_batch_norm': True,\n",
      " 'sample': False,\n",
      " 'seed': 42,\n",
      " 'stack': -1,\n",
      " 'stride': 1,\n",
      " 'test': True,\n",
      " 'test_average_batch': False,\n",
      " 'train_on_val': True,\n",
      " 'upsampling': 2,\n",
      " 'use_avg_reg': True}\n"
     ]
    },
    {
     "name": "stderr",
     "output_type": "stream",
     "text": [
      "LOCAL_RANK: 0 - CUDA_VISIBLE_DEVICES: [GPU-d91b248f-32bc-d3dd-0353-fc01ae9157ea]\n",
      "\n",
      "  | Name | Type        | Params\n",
      "-------------------------------------\n",
      "0 | loss | PoissonLoss | 0     \n",
      "1 | corr | Corr        | 0     \n",
      "-------------------------------------\n",
      "5         Trainable params\n",
      "0         Non-trainable params\n",
      "5         Total params\n",
      "0.000     Total estimated model params size (MB)\n"
     ]
    },
    {
     "name": "stdout",
     "output_type": "stream",
     "text": [
      "Validation sanity check:   0%|          | 0/1 [00:00<?, ?it/s]"
     ]
    },
    {
     "name": "stderr",
     "output_type": "stream",
     "text": [
      "/opt/conda/lib/python3.8/site-packages/pytorch_lightning/trainer/data_loading.py:452: UserWarning: Your `val_dataloader` has `shuffle=True`,it is strongly recommended that you turn this off for val/test/predict dataloaders.\n",
      "  rank_zero_warn(\n",
      "/opt/conda/lib/python3.8/site-packages/pytorch_lightning/trainer/data_loading.py:110: UserWarning: The dataloader, val_dataloader 0, does not have many workers which may be a bottleneck. Consider increasing the value of the `num_workers` argument` (try 64 which is the number of cpus on this machine) in the `DataLoader` init to improve performance.\n",
      "  rank_zero_warn(\n"
     ]
    },
    {
     "name": "stdout",
     "output_type": "stream",
     "text": [
      "Validation sanity check: 100%|██████████| 1/1 [00:19<00:00, 19.15s/it]0.04785307\n",
      "                                                                      "
     ]
    },
    {
     "name": "stderr",
     "output_type": "stream",
     "text": [
      "Global seed set to 42\n",
      "/opt/conda/lib/python3.8/site-packages/pytorch_lightning/trainer/data_loading.py:110: UserWarning: The dataloader, train_dataloader, does not have many workers which may be a bottleneck. Consider increasing the value of the `num_workers` argument` (try 64 which is the number of cpus on this machine) in the `DataLoader` init to improve performance.\n",
      "  rank_zero_warn(\n"
     ]
    },
    {
     "name": "stdout",
     "output_type": "stream",
     "text": [
      "Epoch 0: 100%|██████████| 10/10 [00:02<00:00,  4.87it/s, loss=15] 0.04591286\n",
      "Epoch 1: 100%|██████████| 10/10 [00:01<00:00,  5.28it/s, loss=13] 0.043581534\n",
      "Epoch 2:  90%|█████████ | 9/10 [00:01<00:00,  4.65it/s, loss=9.9] 0.041630372\n",
      "Epoch 3: 100%|██████████| 10/10 [00:01<00:00,  5.54it/s, loss=7.34]0.039974533\n",
      "Epoch 4: 100%|██████████| 10/10 [00:01<00:00,  5.55it/s, loss=5.5] 0.038813718\n",
      "Epoch 4: 100%|██████████| 10/10 [00:01<00:00,  5.03it/s, loss=5.5]\n",
      "Best model's val/corr: 0.04591286\n",
      "/auto/budejovice1/mpicek/reCNN_visual_prosthesis/reCNN_visual_prosthesis/3gjbu8e3/checkpoints/epoch=0-step=8.ckpt\n"
     ]
    },
    {
     "name": "stderr",
     "output_type": "stream",
     "text": [
      "/opt/conda/lib/python3.8/site-packages/neuralpredictors/measures/modules.py:78: UserWarning: Poissonloss is averaged per batch. It's recommended to use `sum` instead\n",
      "  warnings.warn(\"Poissonloss is averaged per batch. It's recommended to use `sum` instead\")\n",
      "LOCAL_RANK: 0 - CUDA_VISIBLE_DEVICES: [GPU-d91b248f-32bc-d3dd-0353-fc01ae9157ea]\n",
      "/opt/conda/lib/python3.8/site-packages/pytorch_lightning/trainer/data_loading.py:452: UserWarning: Your `test_dataloader` has `shuffle=True`,it is strongly recommended that you turn this off for val/test/predict dataloaders.\n",
      "  rank_zero_warn(\n",
      "/opt/conda/lib/python3.8/site-packages/pytorch_lightning/trainer/data_loading.py:110: UserWarning: The dataloader, test_dataloader 0, does not have many workers which may be a bottleneck. Consider increasing the value of the `num_workers` argument` (try 64 which is the number of cpus on this machine) in the `DataLoader` init to improve performance.\n",
      "  rank_zero_warn(\n"
     ]
    },
    {
     "name": "stdout",
     "output_type": "stream",
     "text": [
      "Testing: 100%|██████████| 1/1 [00:00<00:00,  5.16it/s]\n"
     ]
    },
    {
     "name": "stderr",
     "output_type": "stream",
     "text": [
      "LOCAL_RANK: 0 - CUDA_VISIBLE_DEVICES: [GPU-d91b248f-32bc-d3dd-0353-fc01ae9157ea]\n"
     ]
    },
    {
     "name": "stdout",
     "output_type": "stream",
     "text": [
      "Testing: 100%|██████████| 10/10 [00:01<00:00,  5.98it/s]"
     ]
    },
    {
     "name": "stderr",
     "output_type": "stream",
     "text": [
      "LOCAL_RANK: 0 - CUDA_VISIBLE_DEVICES: [GPU-d91b248f-32bc-d3dd-0353-fc01ae9157ea]\n"
     ]
    },
    {
     "name": "stdout",
     "output_type": "stream",
     "text": [
      "\n",
      "Testing: 100%|██████████| 500/500 [00:14<00:00, 33.72it/s]\n",
      "Validation dataset:\n",
      "    Correlation: 0.0459 \n",
      "Test dataset with averaged responses of repeated trials:\n",
      "    Correlation: 0.1046 \n",
      "    Fraction oracle conservative: 0.2383 \n",
      "    Fraction oracle jackknife: 0.4154 \n"
     ]
    }
   ],
   "source": [
    "import wandb\n",
    "from Lurz_dataset import LurzDataModule\n",
    "\n",
    "from models import reCNN_FullFactorized\n",
    "from pytorch_lightning.loggers import WandbLogger\n",
    "from pytorch_lightning.callbacks import EarlyStopping\n",
    "from pytorch_lightning.callbacks import ModelCheckpoint\n",
    "from pytorch_lightning.callbacks.progress import ProgressBar\n",
    "import pytorch_lightning as pl\n",
    "from models import reCNN_bottleneck_CyclicGauss3d\n",
    "from pprint import pprint\n",
    "from Antolik_dataset import AntolikDataModule\n",
    "\n",
    "if use_wandb:\n",
    "\n",
    "    pl.seed_everything(config[\"seed\"], workers=True)\n",
    "\n",
    "    model_artifact_name = None\n",
    "\n",
    "    # init wandb run\n",
    "    run = wandb.init(\n",
    "        config=config,\n",
    "        project=PROJECT,\n",
    "        entity=ENTITY,\n",
    "    )\n",
    "\n",
    "    # Access all hyperparameter values through wandb.config\n",
    "    config = dict(wandb.config)\n",
    "    pprint(config)\n",
    "\n",
    "\n",
    "    # setup wandb logger\n",
    "    wandb_logger = WandbLogger(log_model=True)\n",
    "    wandb_logger.watch(model, log=\"all\", log_freq=250)\n",
    "\n",
    "    # define callbacks for the training\n",
    "    early_stop = EarlyStopping(\n",
    "        monitor=early_stopping_monitor,\n",
    "        patience=config[\"patience\"],\n",
    "        mode=early_stopping_mode,\n",
    "    )\n",
    "    checkpoint_callback = ModelCheckpoint(\n",
    "        save_top_k=1, monitor=model_checkpoint_monitor, mode=model_checkpoint_mode\n",
    "    )\n",
    "\n",
    "    class LitProgressBar(ProgressBar):\n",
    "        def get_metrics(self, trainer, model):\n",
    "            # don't show the version number\n",
    "            items = super().get_metrics(trainer, model)\n",
    "            items.pop(\"v_num\", None)\n",
    "            return items\n",
    "\n",
    "    bar = LitProgressBar()\n",
    "\n",
    "\n",
    "    # define the trainer\n",
    "    trainer = pl.Trainer(\n",
    "        callbacks=[early_stop, checkpoint_callback, bar],\n",
    "        max_epochs=config[\"max_epochs\"],\n",
    "        gpus=[0],\n",
    "        logger=wandb_logger,\n",
    "        log_every_n_steps=1,\n",
    "        # deterministic=True,\n",
    "        enable_checkpointing=True,\n",
    "    )\n",
    "\n",
    "\n",
    "    trainer.fit(\n",
    "        model,\n",
    "        train_dataloaders=dm.train_dataloader(),\n",
    "        val_dataloaders=dm.val_dataloader(),\n",
    "        )\n",
    "\n",
    "    best_observed_val_metric = (\n",
    "        checkpoint_callback.best_model_score.cpu().detach().numpy()\n",
    "    )\n",
    "    print(\n",
    "        \"Best model's \"\n",
    "        + config[\"observed_val_metric\"]\n",
    "        + \": \"\n",
    "        + str(best_observed_val_metric)\n",
    "    )\n",
    "\n",
    "    if model_artifact_name == None:\n",
    "        model_artifact_name = model.__str__()\n",
    "\n",
    "    # add best corr to metadata\n",
    "    metadata = {**config, \"best_model_score\": best_observed_val_metric}\n",
    "\n",
    "    # add model artifact\n",
    "    best_model_artifact = wandb.Artifact(\n",
    "        model_artifact_name, type=\"model\", metadata=metadata\n",
    "    )\n",
    "    best_model_artifact.add_file(checkpoint_callback.best_model_path)\n",
    "    run.log_artifact(best_model_artifact)\n",
    "\n",
    "    # say to wandb that the best val/corr of the model is the best one\n",
    "    # and not the last one!! (it is the default behavour!!)\n",
    "    run.summary[config[\"observed_val_metric\"]] = best_observed_val_metric\n",
    "\n",
    "    print(checkpoint_callback.best_model_path)\n",
    "\n",
    "    model = EnergyModel.load_from_checkpoint(checkpoint_callback.best_model_path)\n",
    "\n",
    "    if config[\"test\"]:\n",
    "        dm.model_performances(model, trainer)\n",
    "\n",
    "\n",
    "\n",
    "        # result_artifact = wandb.Artifact(name=\"RESULT_\" + model_artifact_name, type=\"result\",\n",
    "        #     metadata=results[0])\n",
    "        # run.log_artifact(result_artifact)\n",
    "\n",
    "else:\n",
    "    pl.seed_everything(config[\"seed\"], workers=True)\n",
    "    pprint(config)\n",
    "\n",
    "\n",
    "    # define callbacks for the training\n",
    "    early_stop = EarlyStopping(\n",
    "        monitor=early_stopping_monitor,\n",
    "        patience=config[\"patience\"],\n",
    "        mode=early_stopping_mode,\n",
    "    )\n",
    "    checkpoint_callback = ModelCheckpoint(\n",
    "        save_top_k=1, monitor=model_checkpoint_monitor, mode=model_checkpoint_mode\n",
    "    )\n",
    "\n",
    "    class LitProgressBar(ProgressBar):\n",
    "        def get_metrics(self, trainer, model):\n",
    "            # don't show the version number\n",
    "            items = super().get_metrics(trainer, model)\n",
    "            items.pop(\"v_num\", None)\n",
    "            return items\n",
    "\n",
    "    bar = LitProgressBar()\n",
    "\n",
    "    # define the trainer\n",
    "    trainer = pl.Trainer(\n",
    "        callbacks=[early_stop, checkpoint_callback, bar],\n",
    "        max_epochs=config[\"max_epochs\"],\n",
    "        gpus=[0],\n",
    "        # logger=wandb_logger,\n",
    "        log_every_n_steps=1,\n",
    "        # deterministic=True,\n",
    "        enable_checkpointing=True,\n",
    "    )\n",
    "\n",
    "    if config[\"train_on_val\"]:\n",
    "        trainer.fit(\n",
    "            model,\n",
    "            train_dataloaders=dm.val_dataloader(),\n",
    "            val_dataloaders=dm.val_dataloader(),\n",
    "        )\n",
    "\n",
    "    else:\n",
    "        trainer.fit(\n",
    "            model,\n",
    "            train_dataloaders=dm.train_dataloader(),\n",
    "            val_dataloaders=dm.val_dataloader(),\n",
    "        )\n",
    "\n",
    "    best_observed_val_metric = (\n",
    "        checkpoint_callback.best_model_score.cpu().detach().numpy()\n",
    "    )\n",
    "    print(\n",
    "        \"Best model's \"\n",
    "        + config[\"observed_val_metric\"]\n",
    "        + \": \"\n",
    "        + str(best_observed_val_metric)\n",
    "    )\n",
    "\n",
    "    # add best corr to metadata\n",
    "    metadata = {**config, \"best_model_score\": best_observed_val_metric}\n",
    "\n",
    "    print(checkpoint_callback.best_model_path)\n",
    "\n",
    "    model = EnergyModel.load_from_checkpoint(checkpoint_callback.best_model_path)\n",
    "\n",
    "    if config[\"test\"]:\n",
    "        dm.model_performances(model, trainer)\n",
    "\n",
    "        # result_artifact = wandb.Artifact(name=\"RESULT_\" + model_artifact_name, type=\"result\",\n",
    "        #     metadata=results[0])\n",
    "        # run.log_artifact(result_artifact)"
   ]
  },
  {
   "cell_type": "code",
   "execution_count": 16,
   "metadata": {},
   "outputs": [
    {
     "name": "stderr",
     "output_type": "stream",
     "text": [
      "\u001b[34m\u001b[1mwandb\u001b[0m: Downloading large artifact model-3gjbu8e3:v0, 266.38MB. 1 files... Done. 0:0:0\n"
     ]
    },
    {
     "name": "stdout",
     "output_type": "stream",
     "text": [
      "./artifacts/model-3gjbu8e3:v0\n",
      "./artifacts/model-3gjbu8e3:v0/model.ckpt\n",
      "Model from ./artifacts/model-3gjbu8e3:v0/model.ckpt loaded!\n"
     ]
    }
   ],
   "source": [
    "from create_ensemble import download_energy_model \n",
    "\n",
    "model_name_prefix=\"csng-cuni/reCNN_visual_prosthesis/model-\"\n",
    "task = \"3gjbu8e3\"\n",
    "\n",
    "model = download_energy_model(model_name_prefix + task + \":v0\", run)"
   ]
  },
  {
   "cell_type": "code",
   "execution_count": 18,
   "metadata": {},
   "outputs": [
    {
     "name": "stdout",
     "output_type": "stream",
     "text": [
      "93\n",
      "3400\n",
      "-0.7999749622359675\n",
      "-0.7996747841889844\n"
     ]
    },
    {
     "data": {
      "image/png": "[encoded data removed]",
      "text/plain": [
       "<Figure size 720x720 with 2 Axes>"
      ]
     },
     "metadata": {
      "needs_background": "light"
     },
     "output_type": "display_data"
    }
   ],
   "source": [
    "\n",
    "model.visualize(5, True, init=True)"
   ]
  }
 ],
 "metadata": {
  "kernelspec": {
   "display_name": "Python 3",
   "language": "python",
   "name": "python3"
  },
  "language_info": {
   "codemirror_mode": {
    "name": "ipython",
    "version": 3
   },
   "file_extension": ".py",
   "mimetype": "text/x-python",
   "name": "python",
   "nbconvert_exporter": "python",
   "pygments_lexer": "ipython3",
   "version": "3.8.8"
  },
  "orig_nbformat": 4,
  "vscode": {
   "interpreter": {
    "hash": "916dbcbb3f70747c44a77c7bcd40155683ae19c65e1c03b4aa3499c5328201f1"
   }
  }
 },
 "nbformat": 4,
 "nbformat_minor": 2
}
