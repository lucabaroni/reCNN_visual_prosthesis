{
 "cells": [
  {
   "cell_type": "code",
   "execution_count": 1,
   "metadata": {},
   "outputs": [],
   "source": [
    "from model_trainer import run_wandb_training, run_training_without_logging\n",
    "from models import reCNN_bottleneck_CyclicGauss3d_no_scaling, reCNN_bottleneck_CyclicGauss3d\n",
    "from model_trainer import Antolik_dataset_preparation_function\n",
    "from utils import get_config\n",
    "\n",
    "ENTITY = \"csng-cuni\"\n",
    "PROJECT = \"reCNN_visual_prosthesis\"\n",
    "model = None\n",
    "\n",
    "\n",
    "# TRAINING\n",
    "train_on_test = False\n",
    "max_epochs = 1\n",
    "max_time = 0\n",
    "patience = 7\n",
    "train_on_val = False\n",
    "test = True\n",
    "seed = 42\n",
    "batch_size = 10\n",
    "lr = 0.001\n",
    "\n",
    "def main():\n",
    "\n",
    "    config = get_config(model=\"BM\")\n",
    "\n",
    "    # TRAINING PARAMETERS\n",
    "    config[\"train_on_test\"] = train_on_test\n",
    "    config[\"max_epochs\"] = max_epochs\n",
    "    config[\"max_time\"] = max_time\n",
    "    config[\"patience\"] = patience\n",
    "    config[\"train_on_val\"] = train_on_val\n",
    "    config[\"test\"] = test\n",
    "    config[\"seed\"] = seed\n",
    "    config[\"batch_size\"] = batch_size\n",
    "    config[\"lr\"] = lr\n",
    "    \n",
    "    # MODEL PARAMETERS\n",
    "    # config[\"core_gamma_hidden\"] = 0.008931320307500908\n",
    "    # config[\"bottleneck_kernel\"] = 5\n",
    "    # config[\"core_gamma_input\"] = 0.2384005754453638\n",
    "    # config[\"core_hidden_channels\"] = 5\n",
    "    # config[\"core_hidden_kern\"] = 5\n",
    "    # config[\"core_input_kern\"] = 5\n",
    "    # config[\"core_layers\"] = 4\n",
    "    # config[\"depth_separable\"] = True\n",
    "    # config[\"lr\"] = 0.0005\n",
    "    # config[\"num_rotations\"] = 64\n",
    "    # config[\"upsampling\"] = 1\n",
    "\n",
    "    config[\"train_data_dir\"] = \"/storage/brno2/home/mpicek/reCNN_visual_prosthesis/data/antolik_reparametrized_small/one_trials.pickle\"\n",
    "    config[\"test_data_dir\"] = \"/storage/brno2/home/mpicek/reCNN_visual_prosthesis/data/antolik_reparametrized_small/ten_trials.pickle\"\n",
    "\n",
    "    model = run_wandb_training(\n",
    "        config,\n",
    "        Antolik_dataset_preparation_function,\n",
    "        ENTITY,\n",
    "        PROJECT,\n",
    "        model_class=reCNN_bottleneck_CyclicGauss3d_no_scaling\n",
    "    )\n",
    "    return model"
   ]
  },
  {
   "cell_type": "code",
   "execution_count": 2,
   "metadata": {},
   "outputs": [
    {
     "name": "stderr",
     "output_type": "stream",
     "text": [
      "Failed to detect the name of this notebook, you can set it manually with the WANDB_NOTEBOOK_NAME environment variable to enable code saving.\n",
      "\u001b[34m\u001b[1mwandb\u001b[0m: Currently logged in as: \u001b[33mcsng-cuni\u001b[0m (use `wandb login --relogin` to force relogin)\n",
      "\u001b[34m\u001b[1mwandb\u001b[0m: wandb version 0.15.12 is available!  To upgrade, please run:\n",
      "\u001b[34m\u001b[1mwandb\u001b[0m:  $ pip install wandb --upgrade\n"
     ]
    },
    {
     "data": {
      "text/html": [
       "\n",
       "                    Syncing run <strong><a href=\"https://wandb.ai/csng-cuni/reCNN_visual_prosthesis/runs/1k7959ne\" target=\"_blank\">crimson-rain-418</a></strong> to <a href=\"https://wandb.ai/csng-cuni/reCNN_visual_prosthesis\" target=\"_blank\">Weights & Biases</a> (<a href=\"https://docs.wandb.com/integrations/jupyter.html\" target=\"_blank\">docs</a>).<br/>\n",
       "\n",
       "                "
      ],
      "text/plain": [
       "<IPython.core.display.HTML object>"
      ]
     },
     "metadata": {},
     "output_type": "display_data"
    },
    {
     "name": "stderr",
     "output_type": "stream",
     "text": [
      "Global seed set to 42\n"
     ]
    },
    {
     "name": "stdout",
     "output_type": "stream",
     "text": [
      "{'batch_size': 10,\n",
      " 'bottleneck_kernel': 5,\n",
      " 'brain_crop': None,\n",
      " 'compute_oracle_fraction': False,\n",
      " 'conservative_oracle': True,\n",
      " 'core_gamma_hidden': 0.008931320307500908,\n",
      " 'core_gamma_input': 0.2384005754453638,\n",
      " 'core_hidden_channels': 5,\n",
      " 'core_hidden_kern': 5,\n",
      " 'core_input_kern': 5,\n",
      " 'core_layers': 4,\n",
      " 'counter_clockwise_rotation': False,\n",
      " 'dataset_artifact_name': 'Antolik_dataset:latest',\n",
      " 'default_ori_shift': True,\n",
      " 'depth_separable': True,\n",
      " 'do_not_sample': True,\n",
      " 'factor': 5.5,\n",
      " 'fixed_sigma': False,\n",
      " 'freeze_orientations': False,\n",
      " 'freeze_positions': False,\n",
      " 'generate_oracle_figure': False,\n",
      " 'ground_truth_orientations_file_path': 'data/antolik/oris_reparametrized.pickle',\n",
      " 'ground_truth_positions_file_path': 'data/antolik/positions_reparametrized.pickle',\n",
      " 'init_mu_range': 0.3,\n",
      " 'init_sigma_range': 0.1,\n",
      " 'init_to_ground_truth_orientations': True,\n",
      " 'init_to_ground_truth_positions': True,\n",
      " 'input_regularizer': 'LaplaceL2norm',\n",
      " 'jackknife_oracle': True,\n",
      " 'lr': 0.001,\n",
      " 'max_epochs': 1,\n",
      " 'max_time': 0,\n",
      " 'model_needs_dataloader': True,\n",
      " 'needs_ground_truth': False,\n",
      " 'nonlinearity': 'softplus',\n",
      " 'normalize': True,\n",
      " 'num_rotations': 64,\n",
      " 'observed_val_metric': 'val/corr',\n",
      " 'orientation_shift': 87.4,\n",
      " 'patience': 7,\n",
      " 'positions_minus_x': False,\n",
      " 'positions_minus_y': True,\n",
      " 'positions_swap_axes': False,\n",
      " 'readout_bias': False,\n",
      " 'readout_gamma': 0.17,\n",
      " 'reg_group_sparsity': 0.1,\n",
      " 'reg_readout_spatial_smoothness': 0.0027,\n",
      " 'reg_spatial_sparsity': 0.45,\n",
      " 'rot_eq_batch_norm': True,\n",
      " 'sample': False,\n",
      " 'seed': 42,\n",
      " 'stack': -1,\n",
      " 'stimulus_crop': None,\n",
      " 'stride': 1,\n",
      " 'test': True,\n",
      " 'test_average_batch': False,\n",
      " 'test_data_dir': '/storage/brno2/home/mpicek/reCNN_visual_prosthesis/data/antolik_reparametrized_small/ten_trials.pickle',\n",
      " 'train_data_dir': '/storage/brno2/home/mpicek/reCNN_visual_prosthesis/data/antolik_reparametrized_small/one_trials.pickle',\n",
      " 'train_on_test': False,\n",
      " 'train_on_val': False,\n",
      " 'upsampling': 1,\n",
      " 'use_avg_reg': True,\n",
      " 'val_size': 5000}\n",
      "Setting up the dataset...\n",
      "Data loaded successfully!\n",
      "Loaded precomputed mean from /storage/brno2/home/mpicek/reCNN_visual_prosthesis/data/antolik_reparametrized_small/one_trials_mean.npy\n",
      "crimson-rain-418\n"
     ]
    },
    {
     "name": "stderr",
     "output_type": "stream",
     "text": [
      "/opt/conda/lib/python3.8/site-packages/neuralpredictors/measures/modules.py:78: UserWarning: Poissonloss is averaged per batch. It's recommended to use `sum` instead\n",
      "  warnings.warn(\"Poissonloss is averaged per batch. It's recommended to use `sum` instead\")\n",
      "/opt/conda/lib/python3.8/site-packages/neuralpredictors/layers/cores/conv2d.py:128: UserWarning: The averaged value of regularizer will be used.\n",
      "  warnings.warn(\"The averaged value of regularizer will be used.\", UserWarning)\n",
      "/auto/budejovice1/mpicek/reCNN_visual_prosthesis/readout.py:344: UserWarning: sigma is sampled from uniform distribution, instead of a fixed value. Consider setting fixed_sigma to True\n",
      "  warnings.warn(\n",
      "/opt/conda/lib/python3.8/site-packages/pytorch_lightning/loggers/wandb.py:341: UserWarning: There is a wandb run already in progress and newly created instances of `WandbLogger` will reuse this run. If this is not desired, call `wandb.finish()` before instantiating `WandbLogger`.\n",
      "  rank_zero_warn(\n",
      "GPU available: True, used: True\n",
      "TPU available: False, using: 0 TPU cores\n",
      "IPU available: False, using: 0 IPUs\n",
      "LOCAL_RANK: 0 - CUDA_VISIBLE_DEVICES: [GPU-a9df0f5f-23c9-1528-c2b2-f73078b5a0c5]\n",
      "\n",
      "  | Name    | Type                                | Params\n",
      "----------------------------------------------------------------\n",
      "0 | loss    | PoissonLoss                         | 0     \n",
      "1 | corr    | Corr                                | 0     \n",
      "2 | core    | RotationEquivariant2dCoreBottleneck | 150 K \n",
      "3 | readout | Gaussian3dCyclicNoScale             | 35.0 K\n",
      "4 | nonlin  | Softplus                            | 0     \n",
      "----------------------------------------------------------------\n",
      "96.9 K    Trainable params\n",
      "88.9 K    Non-trainable params\n",
      "185 K     Total params\n",
      "0.743     Total estimated model params size (MB)\n"
     ]
    },
    {
     "name": "stdout",
     "output_type": "stream",
     "text": [
      "Validation sanity check:   0%|          | 0/2 [00:00<?, ?it/s]"
     ]
    },
    {
     "name": "stderr",
     "output_type": "stream",
     "text": [
      "/opt/conda/lib/python3.8/site-packages/pytorch_lightning/trainer/data_loading.py:452: UserWarning: Your `val_dataloader` has `shuffle=True`,it is strongly recommended that you turn this off for val/test/predict dataloaders.\n",
      "  rank_zero_warn(\n",
      "/opt/conda/lib/python3.8/site-packages/pytorch_lightning/trainer/data_loading.py:110: UserWarning: The dataloader, val_dataloader 0, does not have many workers which may be a bottleneck. Consider increasing the value of the `num_workers` argument` (try 64 which is the number of cpus on this machine) in the `DataLoader` init to improve performance.\n",
      "  rank_zero_warn(\n"
     ]
    },
    {
     "name": "stdout",
     "output_type": "stream",
     "text": [
      "                                                                      "
     ]
    },
    {
     "name": "stderr",
     "output_type": "stream",
     "text": [
      "Global seed set to 42\n",
      "/opt/conda/lib/python3.8/site-packages/pytorch_lightning/trainer/data_loading.py:110: UserWarning: The dataloader, train_dataloader, does not have many workers which may be a bottleneck. Consider increasing the value of the `num_workers` argument` (try 64 which is the number of cpus on this machine) in the `DataLoader` init to improve performance.\n",
      "  rank_zero_warn(\n"
     ]
    },
    {
     "name": "stdout",
     "output_type": "stream",
     "text": [
      "Epoch 0: 100%|██████████| 4500/4500 [18:22<00:00,  4.08it/s, loss=-0.104, v_num=59ne]  \n",
      "Best model's val/corr: 0.28024158\n",
      "reCNN_bottleneck_CyclicGauss3d\n",
      "<wandb.sdk.wandb_artifacts.Artifact object at 0x15164f705c70>\n",
      "/auto/brno2/home/mpicek/MODEL_CHECKPOINTS/crimson-rain-418/epoch=0-step=3999.ckpt\n"
     ]
    },
    {
     "name": "stderr",
     "output_type": "stream",
     "text": [
      "LOCAL_RANK: 0 - CUDA_VISIBLE_DEVICES: [GPU-a9df0f5f-23c9-1528-c2b2-f73078b5a0c5]\n",
      "/opt/conda/lib/python3.8/site-packages/pytorch_lightning/trainer/data_loading.py:452: UserWarning: Your `test_dataloader` has `shuffle=True`,it is strongly recommended that you turn this off for val/test/predict dataloaders.\n",
      "  rank_zero_warn(\n",
      "/opt/conda/lib/python3.8/site-packages/pytorch_lightning/trainer/data_loading.py:110: UserWarning: The dataloader, test_dataloader 0, does not have many workers which may be a bottleneck. Consider increasing the value of the `num_workers` argument` (try 64 which is the number of cpus on this machine) in the `DataLoader` init to improve performance.\n",
      "  rank_zero_warn(\n"
     ]
    },
    {
     "name": "stdout",
     "output_type": "stream",
     "text": [
      "Testing: 100%|██████████| 500/500 [00:26<00:00, 18.75it/s]"
     ]
    },
    {
     "name": "stderr",
     "output_type": "stream",
     "text": [
      "LOCAL_RANK: 0 - CUDA_VISIBLE_DEVICES: [GPU-a9df0f5f-23c9-1528-c2b2-f73078b5a0c5]\n"
     ]
    },
    {
     "name": "stdout",
     "output_type": "stream",
     "text": [
      "\n",
      "Testing: 100%|██████████| 500/500 [00:27<00:00, 18.31it/s]"
     ]
    },
    {
     "name": "stderr",
     "output_type": "stream",
     "text": [
      "LOCAL_RANK: 0 - CUDA_VISIBLE_DEVICES: [GPU-a9df0f5f-23c9-1528-c2b2-f73078b5a0c5]\n"
     ]
    },
    {
     "name": "stdout",
     "output_type": "stream",
     "text": [
      "\n",
      "Testing: 100%|██████████| 500/500 [00:10<00:00, 46.49it/s]\n",
      "Validation dataset:\n",
      "    Correlation: 0.2802 \n",
      "Test dataset with averaged responses of repeated trials:\n",
      "    Correlation: 0.4482 \n",
      "    Fraction oracle conservative: 0.7407 \n",
      "    Fraction oracle jackknife: 0.8968 \n"
     ]
    }
   ],
   "source": [
    "model = main()"
   ]
  }
 ],
 "metadata": {
  "kernelspec": {
   "display_name": "Python 3",
   "language": "python",
   "name": "python3"
  },
  "orig_nbformat": 4
 },
 "nbformat": 4,
 "nbformat_minor": 2
}
