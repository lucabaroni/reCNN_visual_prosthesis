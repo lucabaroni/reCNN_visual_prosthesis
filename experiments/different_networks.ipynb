{
 "cells": [
  {
   "cell_type": "code",
   "execution_count": null,
   "metadata": {},
   "outputs": [],
   "source": []
  },
  {
   "cell_type": "markdown",
   "metadata": {},
   "source": [
    "## Our reCNN network"
   ]
  },
  {
   "cell_type": "code",
   "execution_count": null,
   "metadata": {},
   "outputs": [],
   "source": []
  },
  {
   "cell_type": "markdown",
   "metadata": {},
   "source": [
    "## reCNN network with learnable scaling factor for each individual neuron\n",
    "\n",
    "##### With this, we learn:\n",
    " - how much the performance drops when learnable scaling factor is removed (= the importance of the scaling).\n",
    " - how much the neurons in similar position and with similar orientation vary in their response (this explains what \"amount of neural response\" cannot be restored with the prosthetic device due to unability to target individual neurons separately).\n",
    " - how much the neurons depend solely on the orientation and position\n",
    " - Moreover, we can find out, whether the estimation of position and orientation is more precise or not."
   ]
  },
  {
   "cell_type": "code",
   "execution_count": null,
   "metadata": {},
   "outputs": [],
   "source": []
  },
  {
   "cell_type": "markdown",
   "metadata": {},
   "source": [
    "## reCNN network initialized to ground truth positions (with very little sigma)\n",
    "#### With this we learn:\n",
    " - how important the initial values of positions are"
   ]
  },
  {
   "cell_type": "code",
   "execution_count": null,
   "metadata": {},
   "outputs": [],
   "source": []
  },
  {
   "cell_type": "markdown",
   "metadata": {},
   "source": [
    "## reCNN network initialized to ground truth orientations\n",
    "\n",
    "#### With this we learn:\n",
    " - if we have a correct orientation preference of a given neuron, how much the predictive performance improves (if a lot, then it means that it is crucial to have a precise orientation map of a given subject with the implant)\n",
    " - how important the initial values of orientations are"
   ]
  },
  {
   "cell_type": "code",
   "execution_count": null,
   "metadata": {},
   "outputs": [],
   "source": []
  },
  {
   "cell_type": "markdown",
   "metadata": {},
   "source": [
    "## reCNN network initialized to ground truth positions and orientations\n",
    "\n",
    "Makes the comparison with energy model fair as both models have the same amount of information.\n",
    "\n",
    "#### With this, we learn:\n",
    " - how far we can get if we have correct positions and orientations\n",
    " - compared to the network that uses ground truth only for evaluation, we find out, how much it helps if we have the correct positions from the beginning and we do not need to estimate them. This gives us also the answer to the question of how important are the initial guesses of the positions and orientations."
   ]
  },
  {
   "cell_type": "code",
   "execution_count": null,
   "metadata": {},
   "outputs": [],
   "source": []
  },
  {
   "cell_type": "code",
   "execution_count": null,
   "metadata": {},
   "outputs": [],
   "source": []
  }
 ],
 "metadata": {
  "language_info": {
   "name": "python"
  },
  "orig_nbformat": 4
 },
 "nbformat": 4,
 "nbformat_minor": 2
}
