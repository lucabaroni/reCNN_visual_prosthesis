{
 "cells": [
  {
   "cell_type": "code",
   "execution_count": 4,
   "metadata": {},
   "outputs": [],
   "source": [
    "import sys\n",
    "import pathlib\n",
    "sys.path.insert(0, str(pathlib.Path(\n",
    ").resolve().parent)) #.. this has to be the folder reCNN_visual_prosthesis\n",
    "import wandb\n",
    "import glob\n",
    "from models import reCNN_bottleneck_CyclicGauss3d_no_scaling, Lurz_Control_Model\n",
    "import matplotlib.pyplot as plt\n",
    "import numpy as np\n",
    "import torchvision.transforms as transforms\n",
    "from Antolik_dataset import AntolikDataset, AntolikDataModule\n",
    "from experiments.utils import pickle_read, download_model, get_neuron_estimates, reconstruct_orientation_maps, visualize_preferred_orientations, rotate_and_compute_distances, circular_distance\n",
    "import pytorch_lightning as pl\n",
    "import torch\n",
    "from model_trainer import run_wandb_training\n",
    "from energy_model.energy_model import EnergyModel, EnergyModelIndividual\n",
    "from model_trainer import Antolik_dataset_preparation_function, get_model\n",
    "import torch.nn as nn\n",
    "import torch.optim as optim\n",
    "from experiments.utils import pickle_read, download_model\n",
    "from tqdm import tqdm\n",
    "from utils import get_config\n",
    "from experiments.MEI import *"
   ]
  },
  {
   "cell_type": "markdown",
   "metadata": {},
   "source": [
    "# First, create the trainable image and train it on the first neuron of the encoder"
   ]
  },
  {
   "cell_type": "code",
   "execution_count": 5,
   "metadata": {},
   "outputs": [
    {
     "data": {
      "text/html": [
       "Finishing last run (ID:ytprs6s8) before initializing another..."
      ],
      "text/plain": [
       "<IPython.core.display.HTML object>"
      ]
     },
     "metadata": {},
     "output_type": "display_data"
    },
    {
     "data": {
      "text/html": [
       "<br/>Waiting for W&B process to finish, PID 112478... <strong style=\"color:green\">(success).</strong>"
      ],
      "text/plain": [
       "<IPython.core.display.HTML object>"
      ]
     },
     "metadata": {},
     "output_type": "display_data"
    },
    {
     "data": {
      "text/html": [
       "<style>\n",
       "    table.wandb td:nth-child(1) { padding: 0 10px; text-align: right }\n",
       "    .wandb-row { display: flex; flex-direction: row; flex-wrap: wrap; width: 100% }\n",
       "    .wandb-col { display: flex; flex-direction: column; flex-basis: 100%; flex: 1; padding: 10px; }\n",
       "    </style>\n",
       "<div class=\"wandb-row\"><div class=\"wandb-col\">\n",
       "</div><div class=\"wandb-col\">\n",
       "</div></div>\n",
       "Synced 5 W&B file(s), 0 media file(s), 0 artifact file(s) and 0 other file(s)\n",
       "<br/>Synced <strong style=\"color:#cdcd00\">devoted-terrain-396</strong>: <a href=\"https://wandb.ai/csng-cuni/reCNN_visual_prosthesis/runs/ytprs6s8\" target=\"_blank\">https://wandb.ai/csng-cuni/reCNN_visual_prosthesis/runs/ytprs6s8</a><br/>\n",
       "Find logs at: <code>./wandb/run-20231019_205713-ytprs6s8/logs</code><br/>\n"
      ],
      "text/plain": [
       "<IPython.core.display.HTML object>"
      ]
     },
     "metadata": {},
     "output_type": "display_data"
    },
    {
     "data": {
      "text/html": [
       "Successfully finished last run (ID:ytprs6s8). Initializing new run:<br/>"
      ],
      "text/plain": [
       "<IPython.core.display.HTML object>"
      ]
     },
     "metadata": {},
     "output_type": "display_data"
    },
    {
     "name": "stderr",
     "output_type": "stream",
     "text": [
      "\u001b[34m\u001b[1mwandb\u001b[0m: wandb version 0.15.12 is available!  To upgrade, please run:\n",
      "\u001b[34m\u001b[1mwandb\u001b[0m:  $ pip install wandb --upgrade\n"
     ]
    },
    {
     "data": {
      "text/html": [
       "\n",
       "                    Syncing run <strong><a href=\"https://wandb.ai/csng-cuni/reCNN_visual_prosthesis/runs/366830i4\" target=\"_blank\">serene-breeze-397</a></strong> to <a href=\"https://wandb.ai/csng-cuni/reCNN_visual_prosthesis\" target=\"_blank\">Weights & Biases</a> (<a href=\"https://docs.wandb.com/integrations/jupyter.html\" target=\"_blank\">docs</a>).<br/>\n",
       "\n",
       "                "
      ],
      "text/plain": [
       "<IPython.core.display.HTML object>"
      ]
     },
     "metadata": {},
     "output_type": "display_data"
    },
    {
     "name": "stderr",
     "output_type": "stream",
     "text": [
      "Global seed set to 42\n"
     ]
    },
    {
     "name": "stdout",
     "output_type": "stream",
     "text": [
      "Model from ./artifacts/reCNN_bottleneck_CyclicGauss3d:v1011/epoch=13-step=55999.ckpt loaded!\n"
     ]
    },
    {
     "name": "stderr",
     "output_type": "stream",
     "text": [
      "/opt/conda/lib/python3.8/site-packages/neuralpredictors/measures/modules.py:78: UserWarning: Poissonloss is averaged per batch. It's recommended to use `sum` instead\n",
      "  warnings.warn(\"Poissonloss is averaged per batch. It's recommended to use `sum` instead\")\n",
      "/opt/conda/lib/python3.8/site-packages/neuralpredictors/layers/cores/conv2d.py:128: UserWarning: The averaged value of regularizer will be used.\n",
      "  warnings.warn(\"The averaged value of regularizer will be used.\", UserWarning)\n",
      "/auto/budejovice1/mpicek/reCNN_visual_prosthesis/readout.py:344: UserWarning: sigma is sampled from uniform distribution, instead of a fixed value. Consider setting fixed_sigma to True\n",
      "  warnings.warn(\n"
     ]
    },
    {
     "data": {
      "text/html": [
       "Finishing last run (ID:366830i4) before initializing another..."
      ],
      "text/plain": [
       "<IPython.core.display.HTML object>"
      ]
     },
     "metadata": {},
     "output_type": "display_data"
    },
    {
     "data": {
      "text/html": [
       "<br/>Waiting for W&B process to finish, PID 112686... <strong style=\"color:green\">(success).</strong>"
      ],
      "text/plain": [
       "<IPython.core.display.HTML object>"
      ]
     },
     "metadata": {},
     "output_type": "display_data"
    },
    {
     "data": {
      "text/html": [
       "<style>\n",
       "    table.wandb td:nth-child(1) { padding: 0 10px; text-align: right }\n",
       "    .wandb-row { display: flex; flex-direction: row; flex-wrap: wrap; width: 100% }\n",
       "    .wandb-col { display: flex; flex-direction: column; flex-basis: 100%; flex: 1; padding: 10px; }\n",
       "    </style>\n",
       "<div class=\"wandb-row\"><div class=\"wandb-col\">\n",
       "</div><div class=\"wandb-col\">\n",
       "</div></div>\n",
       "Synced 5 W&B file(s), 0 media file(s), 0 artifact file(s) and 0 other file(s)\n",
       "<br/>Synced <strong style=\"color:#cdcd00\">serene-breeze-397</strong>: <a href=\"https://wandb.ai/csng-cuni/reCNN_visual_prosthesis/runs/366830i4\" target=\"_blank\">https://wandb.ai/csng-cuni/reCNN_visual_prosthesis/runs/366830i4</a><br/>\n",
       "Find logs at: <code>./wandb/run-20231019_205825-366830i4/logs</code><br/>\n"
      ],
      "text/plain": [
       "<IPython.core.display.HTML object>"
      ]
     },
     "metadata": {},
     "output_type": "display_data"
    },
    {
     "data": {
      "text/html": [
       "Successfully finished last run (ID:366830i4). Initializing new run:<br/>"
      ],
      "text/plain": [
       "<IPython.core.display.HTML object>"
      ]
     },
     "metadata": {},
     "output_type": "display_data"
    },
    {
     "name": "stderr",
     "output_type": "stream",
     "text": [
      "\u001b[34m\u001b[1mwandb\u001b[0m: wandb version 0.15.12 is available!  To upgrade, please run:\n",
      "\u001b[34m\u001b[1mwandb\u001b[0m:  $ pip install wandb --upgrade\n"
     ]
    },
    {
     "data": {
      "text/html": [
       "\n",
       "                    Syncing run <strong><a href=\"https://wandb.ai/csng-cuni/reCNN_visual_prosthesis/runs/3rtlnb92\" target=\"_blank\">rose-gorge-398</a></strong> to <a href=\"https://wandb.ai/csng-cuni/reCNN_visual_prosthesis\" target=\"_blank\">Weights & Biases</a> (<a href=\"https://docs.wandb.com/integrations/jupyter.html\" target=\"_blank\">docs</a>).<br/>\n",
       "\n",
       "                "
      ],
      "text/plain": [
       "<IPython.core.display.HTML object>"
      ]
     },
     "metadata": {},
     "output_type": "display_data"
    },
    {
     "name": "stderr",
     "output_type": "stream",
     "text": [
      "Global seed set to 42\n",
      "\u001b[34m\u001b[1mwandb\u001b[0m: Downloading large artifact EnergyModel:v556, 115.66MB. 1 files... Done. 0:0:0\n",
      "/opt/conda/lib/python3.8/site-packages/neuralpredictors/measures/modules.py:78: UserWarning: Poissonloss is averaged per batch. It's recommended to use `sum` instead\n",
      "  warnings.warn(\"Poissonloss is averaged per batch. It's recommended to use `sum` instead\")\n"
     ]
    },
    {
     "name": "stdout",
     "output_type": "stream",
     "text": [
      "Model from ./artifacts/EnergyModel:v556/epoch=15-step=63999.ckpt loaded!\n"
     ]
    },
    {
     "data": {
      "text/html": [
       "Finishing last run (ID:3rtlnb92) before initializing another..."
      ],
      "text/plain": [
       "<IPython.core.display.HTML object>"
      ]
     },
     "metadata": {},
     "output_type": "display_data"
    },
    {
     "data": {
      "text/html": [
       "<br/>Waiting for W&B process to finish, PID 112757... <strong style=\"color:green\">(success).</strong>"
      ],
      "text/plain": [
       "<IPython.core.display.HTML object>"
      ]
     },
     "metadata": {},
     "output_type": "display_data"
    },
    {
     "data": {
      "text/html": [
       "<style>\n",
       "    table.wandb td:nth-child(1) { padding: 0 10px; text-align: right }\n",
       "    .wandb-row { display: flex; flex-direction: row; flex-wrap: wrap; width: 100% }\n",
       "    .wandb-col { display: flex; flex-direction: column; flex-basis: 100%; flex: 1; padding: 10px; }\n",
       "    </style>\n",
       "<div class=\"wandb-row\"><div class=\"wandb-col\">\n",
       "</div><div class=\"wandb-col\">\n",
       "</div></div>\n",
       "Synced 5 W&B file(s), 0 media file(s), 0 artifact file(s) and 0 other file(s)\n",
       "<br/>Synced <strong style=\"color:#cdcd00\">rose-gorge-398</strong>: <a href=\"https://wandb.ai/csng-cuni/reCNN_visual_prosthesis/runs/3rtlnb92\" target=\"_blank\">https://wandb.ai/csng-cuni/reCNN_visual_prosthesis/runs/3rtlnb92</a><br/>\n",
       "Find logs at: <code>./wandb/run-20231019_205835-3rtlnb92/logs</code><br/>\n"
      ],
      "text/plain": [
       "<IPython.core.display.HTML object>"
      ]
     },
     "metadata": {},
     "output_type": "display_data"
    },
    {
     "data": {
      "text/html": [
       "Successfully finished last run (ID:3rtlnb92). Initializing new run:<br/>"
      ],
      "text/plain": [
       "<IPython.core.display.HTML object>"
      ]
     },
     "metadata": {},
     "output_type": "display_data"
    },
    {
     "name": "stderr",
     "output_type": "stream",
     "text": [
      "\u001b[34m\u001b[1mwandb\u001b[0m: wandb version 0.15.12 is available!  To upgrade, please run:\n",
      "\u001b[34m\u001b[1mwandb\u001b[0m:  $ pip install wandb --upgrade\n"
     ]
    },
    {
     "data": {
      "text/html": [
       "\n",
       "                    Syncing run <strong><a href=\"https://wandb.ai/csng-cuni/reCNN_visual_prosthesis/runs/1e65l7m6\" target=\"_blank\">charmed-mountain-399</a></strong> to <a href=\"https://wandb.ai/csng-cuni/reCNN_visual_prosthesis\" target=\"_blank\">Weights & Biases</a> (<a href=\"https://docs.wandb.com/integrations/jupyter.html\" target=\"_blank\">docs</a>).<br/>\n",
       "\n",
       "                "
      ],
      "text/plain": [
       "<IPython.core.display.HTML object>"
      ]
     },
     "metadata": {},
     "output_type": "display_data"
    },
    {
     "name": "stderr",
     "output_type": "stream",
     "text": [
      "Global seed set to 42\n"
     ]
    },
    {
     "name": "stdout",
     "output_type": "stream",
     "text": [
      "Model from ./artifacts/StackedCore_FullGaussian2d:v2009/epoch=4-step=1999.ckpt loaded!\n"
     ]
    },
    {
     "name": "stderr",
     "output_type": "stream",
     "text": [
      "/opt/conda/lib/python3.8/site-packages/neuralpredictors/measures/modules.py:78: UserWarning: Poissonloss is averaged per batch. It's recommended to use `sum` instead\n",
      "  warnings.warn(\"Poissonloss is averaged per batch. It's recommended to use `sum` instead\")\n",
      "/opt/conda/lib/python3.8/site-packages/neuralpredictors/layers/cores/conv2d.py:128: UserWarning: The averaged value of regularizer will be used.\n",
      "  warnings.warn(\"The averaged value of regularizer will be used.\", UserWarning)\n"
     ]
    }
   ],
   "source": [
    "bottleneck_model = download_model(artifact_name=\"reCNN_bottleneck_CyclicGauss3d:v1011\", model_class=reCNN_bottleneck_CyclicGauss3d_no_scaling)\n",
    "energy_model = download_model(artifact_name=\"EnergyModel:v556\", model_class=EnergyModel)\n",
    "encoder = download_model(artifact_name=\"StackedCore_FullGaussian2d:v2009\", model_class=Lurz_Control_Model)"
   ]
  },
  {
   "cell_type": "markdown",
   "metadata": {},
   "source": [
    "# Now train Gabor filter on the obtained MEI"
   ]
  },
  {
   "cell_type": "code",
   "execution_count": 6,
   "metadata": {},
   "outputs": [
    {
     "name": "stdout",
     "output_type": "stream",
     "text": [
      "Data loaded successfully!\n",
      "Loaded precomputed mean from /storage/brno2/home/mpicek/reCNN_visual_prosthesis/data/antolik_reparametrized_small/one_trials_mean.npy\n"
     ]
    }
   ],
   "source": [
    "config = get_config()\n",
    "config[\"train_data_dir\"] = \"/storage/brno2/home/mpicek/reCNN_visual_prosthesis/data/antolik_reparametrized_small/one_trials.pickle\"\n",
    "config[\"test_data_dir\"] = \"/storage/brno2/home/mpicek/reCNN_visual_prosthesis/data/antolik_reparametrized_small/ten_trials.pickle\"\n",
    "\n",
    "dm = Antolik_dataset_preparation_function(config, load_data=True)\n",
    "\n",
    "pos_x, pos_y, orientations = dm.get_ground_truth(\n",
    "    ground_truth_positions_file_path=config[\"ground_truth_positions_file_path\"], \n",
    "    ground_truth_orientations_file_path=config[\"ground_truth_orientations_file_path\"], \n",
    "    in_degrees=False, \n",
    "    positions_minus_y=config[\"positions_minus_y\"], \n",
    "    positions_minus_x=config[\"positions_minus_x\"], \n",
    "    positions_swap_axes=config[\"positions_swap_axes\"]\n",
    ")"
   ]
  },
  {
   "cell_type": "code",
   "execution_count": 16,
   "metadata": {},
   "outputs": [],
   "source": [
    "def show_three_images(image1, image2, image3, pixel_min, pixel_max):\n",
    "    # plt.figure(figsize = (8,16))\n",
    "    fig, ax = plt.subplots(1, 3, figsize=(15, 5))\n",
    "    ax[0].imshow(image1, cmap=\"PiYG\", vmax=pixel_max, vmin=pixel_min)\n",
    "    ax[1].imshow(image2, cmap=\"PiYG\", vmax=pixel_max, vmin=pixel_min)\n",
    "    ax[2].imshow(image3, cmap=\"PiYG\", vmax=pixel_max, vmin=pixel_min)\n",
    "    plt.show()\n",
    "\n",
    "def show_four_images(image1, image2, image3, image4, pixel_min, pixel_max):\n",
    "    # plt.figure(figsize = (8,16))\n",
    "    fig, ax = plt.subplots(1, 4, figsize=(15, 5))\n",
    "    ax[0].imshow(image1, cmap=\"PiYG\", vmax=pixel_max, vmin=pixel_min)\n",
    "    ax[1].imshow(image2, cmap=\"PiYG\", vmax=pixel_max, vmin=pixel_min)\n",
    "    ax[2].imshow(image3, cmap=\"PiYG\", vmax=pixel_max, vmin=pixel_min)\n",
    "    ax[3].imshow(image4, cmap=\"PiYG\", vmax=pixel_max, vmin=pixel_min)\n",
    "    plt.show()"
   ]
  },
  {
   "cell_type": "markdown",
   "metadata": {},
   "source": [
    "## Set the positions to 0 and slowly rotate the neuron\n",
    "**This check ensures that the network is really rot equivarian. You can try also different locations - to ensure location equivariancy.**\n",
    "**Run the bottom cell right after you download the models from wandb. Otherwise you'll have problems with cuda and cpu.**"
   ]
  },
  {
   "cell_type": "code",
   "execution_count": null,
   "metadata": {},
   "outputs": [],
   "source": [
    "# for i in range(30):\n",
    "#     pos_x[i] = 0\n",
    "#     pos_y[i] = 0\n",
    "#     orientations[i] = 1/30 * i\n",
    "\n",
    "#     bottleneck_model.readout.mu[0, 0, i, 0, 0] = 0\n",
    "#     bottleneck_model.readout.mu[0, 0, i, 0, 1] = 0\n",
    "#     bottleneck_model.readout.mu[0, 0, i, 0, 2] = 1/30 * i\n",
    "\n",
    "# energy_model.positions_x = torch.zeros(energy_model.positions_x.shape).to('cpu')\n",
    "# energy_model.positions_y = torch.zeros(energy_model.positions_y.shape).to('cpu')\n",
    "# for i in range(30):\n",
    "#     energy_model.orientations[i] = (((1/30 * i) * 180) + 90) % np.pi\n",
    "# energy_model.init_gabor_filters((55, 55), [-5.5, 5.5], [-5.5, 5.5])\n"
   ]
  },
  {
   "cell_type": "markdown",
   "metadata": {},
   "source": [
    "### We will always train the MEI and then fit Gabor filter on it\n",
    "- here, we also want to see the parameters of the Gabor\n",
    "- therefore, we do the same computation on different neurons\n",
    "\n",
    "**The neurons have sometimes swapped sides (purple and green). The activation for inversed MEI (if we manually swap the purple and green) is almost the same, so it is alright. Our network obviously learned the complex behaviour of V1 cells.**"
   ]
  },
  {
   "cell_type": "code",
   "execution_count": 9,
   "metadata": {},
   "outputs": [
    {
     "name": "stderr",
     "output_type": "stream",
     "text": [
      "activation = 11.428869247436523: 100%|██████████| 500/500 [00:45<00:00, 11.01it/s]\n"
     ]
    },
    {
     "name": "stdout",
     "output_type": "stream",
     "text": [
      "Last activation tensor(11.4289, device='cuda:0', grad_fn=<MeanBackward0>)\n",
      "Inverse activation tensor(11.0674, device='cuda:0', grad_fn=<MeanBackward0>)\n"
     ]
    },
    {
     "name": "stderr",
     "output_type": "stream",
     "text": [
      "activation = 18.90036964416504: 100%|██████████| 500/500 [00:07<00:00, 68.27it/s] \n"
     ]
    },
    {
     "name": "stdout",
     "output_type": "stream",
     "text": [
      "Last activation tensor(18.9004, device='cuda:0', grad_fn=<MeanBackward0>)\n",
      "Inverse activation tensor(19.2716, device='cuda:0', grad_fn=<MeanBackward0>)\n"
     ]
    },
    {
     "name": "stderr",
     "output_type": "stream",
     "text": [
      "activation = 38.982383728027344: 100%|██████████| 500/500 [00:04<00:00, 115.51it/s]\n"
     ]
    },
    {
     "name": "stdout",
     "output_type": "stream",
     "text": [
      "Last activation tensor(38.9824, device='cuda:0', grad_fn=<MeanBackward0>)\n",
      "Inverse activation tensor(26.2812, device='cuda:0', grad_fn=<MeanBackward0>)\n"
     ]
    },
    {
     "data": {
      "image/png": "[encoded data removed]",
      "text/plain": [
       "<Figure size 576x576 with 2 Axes>"
      ]
     },
     "metadata": {
      "needs_background": "light"
     },
     "output_type": "display_data"
    },
    {
     "data": {
      "image/png": "[encoded data removed]",
      "text/plain": [
       "<Figure size 576x576 with 2 Axes>"
      ]
     },
     "metadata": {
      "needs_background": "light"
     },
     "output_type": "display_data"
    },
    {
     "data": {
      "image/png": "[encoded data removed]",
      "text/plain": [
       "<Figure size 576x576 with 2 Axes>"
      ]
     },
     "metadata": {
      "needs_background": "light"
     },
     "output_type": "display_data"
    }
   ],
   "source": [
    "std = 0.15\n",
    "meis_bm = []\n",
    "meis_em = []\n",
    "meis_encoder = []\n",
    "device = \"cuda\" if torch.cuda.is_available() else \"cpu\"\n",
    "\n",
    "num_neurons_to_test = 1\n",
    "\n",
    "# try different neurons\n",
    "for neuron in range(num_neurons_to_test):\n",
    "    # first, find the MEI\n",
    "\n",
    "    mei = train_mei(bottleneck_model, device, neuron, std=std, lr=0.02)\n",
    "    meis_bm.append(mei)\n",
    "    plot_img(mei, -1.7, 2)\n",
    "    # the energy model needs much much higher learning rate\n",
    "    mei = train_mei(energy_model, device, neuron, std=std, lr=1.0)\n",
    "    meis_em.append(mei)\n",
    "    plot_img(mei, -1.7, 2)\n",
    "\n",
    "    # the encoder needs much much higher learning rate\n",
    "    mei = train_mei(encoder, device, neuron, std=std, lr=1.0)\n",
    "    meis_encoder.append(mei)\n",
    "    plot_img(mei, -1.7, 2)\n"
   ]
  },
  {
   "cell_type": "markdown",
   "metadata": {},
   "source": [
    "## Fit Gabor filter on the Bottleneck Model"
   ]
  },
  {
   "cell_type": "code",
   "execution_count": 17,
   "metadata": {},
   "outputs": [
    {
     "name": "stderr",
     "output_type": "stream",
     "text": [
      "loss = -0.02076149545609951:   0%|          | 0/4000 [00:00<?, ?it/s] "
     ]
    },
    {
     "name": "stderr",
     "output_type": "stream",
     "text": [
      "loss = -0.0038373805582523346: 100%|██████████| 4000/4000 [00:14<00:00, 279.99it/s]\n"
     ]
    },
    {
     "name": "stdout",
     "output_type": "stream",
     "text": [
      "sigma_x = 0.5907771587371826\n",
      "sigma_y = 0.6610118746757507\n",
      "freq = 0.6157025098800659\n"
     ]
    },
    {
     "data": {
      "image/png": "[encoded data removed]",
      "text/plain": [
       "<Figure size 1080x360 with 4 Axes>"
      ]
     },
     "metadata": {
      "needs_background": "light"
     },
     "output_type": "display_data"
    },
    {
     "ename": "",
     "evalue": "",
     "output_type": "error",
     "traceback": [
      "\u001b[1;31mThe Kernel crashed while executing code in the the current cell or a previous cell. Please review the code in the cell(s) to identify a possible cause of the failure. Click <a href='https://aka.ms/vscodeJupyterKernelCrash'>here</a> for more info. View Jupyter <a href='command:jupyter.viewOutput'>log</a> for further details."
     ]
    }
   ],
   "source": [
    "neuron = 0\n",
    "\n",
    "g = GaborFilter(\n",
    "    init_pos_x=pos_x[neuron],\n",
    "    init_pos_y=pos_y[neuron],\n",
    "    init_ori=orientations[neuron],\n",
    "    init_f=1.2,\n",
    "    dataset_default_ori_shift=90\n",
    ")\n",
    "\n",
    "gab = train_gabor(g, meis_bm[neuron], device)\n",
    "\n",
    "# print the parameters of the fitted Gabor filter\n",
    "for name, param in g.named_parameters():\n",
    "    if name == \"sigma_x\":\n",
    "        print(f\"sigma_x = {param.cpu().detach().numpy()[0]}\")\n",
    "    if name == \"sigma_y\":\n",
    "        print(f\"sigma_y = {param.cpu().detach().numpy()[0]}\")\n",
    "    if name == \"f\":\n",
    "        print(f\"freq = {param.cpu().detach().numpy()[0]}\")\n",
    "\n",
    "\n",
    "show_four_images(meis_bm[neuron], meis_em[neuron], meis_encoder[neuron], gab, -1.7, 2)"
   ]
  }
 ],
 "metadata": {
  "kernelspec": {
   "display_name": "Python 3",
   "language": "python",
   "name": "python3"
  },
  "language_info": {
   "codemirror_mode": {
    "name": "ipython",
    "version": 3
   },
   "file_extension": ".py",
   "mimetype": "text/x-python",
   "name": "python",
   "nbconvert_exporter": "python",
   "pygments_lexer": "ipython3",
   "version": "3.8.8"
  }
 },
 "nbformat": 4,
 "nbformat_minor": 4
}
