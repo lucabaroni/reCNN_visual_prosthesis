{
 "cells": [
  {
   "cell_type": "code",
   "execution_count": 1,
   "metadata": {},
   "outputs": [],
   "source": [
    "import sys\n",
    "import pathlib\n",
    "sys.path.insert(0, str(pathlib.Path(\n",
    ").resolve().parent)) #.. this has to be the folder reCNN_visual_prosthesis\n",
    "import wandb\n",
    "import glob\n",
    "from models import reCNN_bottleneck_CyclicGauss3d, reCNN_bottleneck_CyclicGauss3d_no_scaling, Lurz_Control_Model\n",
    "import matplotlib.pyplot as plt\n",
    "import numpy as np\n",
    "import pickle\n",
    "import torchvision.transforms as transforms\n",
    "import math\n",
    "from Antolik_dataset import AntolikDataset, AntolikDataModule\n",
    "from experiments.utils import pickle_read, download_model, get_neuron_estimates, reconstruct_orientation_maps, visualize_preferred_orientations, rotate_and_compute_distances, circular_distance\n",
    "import pytorch_lightning as pl\n",
    "import torch\n",
    "from model_trainer import run_wandb_training\n",
    "from energy_model.energy_model import EnergyModel, EnergyModelIndividual\n",
    "from train_on_antolik import get_config\n",
    "from model_trainer import Antolik_dataset_preparation_function, get_model\n",
    "\n",
    "import torch.nn as nn\n",
    "import torch.optim as optim\n",
    "import torch.nn.functional as F\n",
    "import torchvision\n",
    "from experiments.utils import pickle_read, download_model"
   ]
  },
  {
   "cell_type": "code",
   "execution_count": 2,
   "metadata": {},
   "outputs": [],
   "source": [
    "ENTITY = \"csng-cuni\"\n",
    "PROJECT = \"reCNN_visual_prosthesis\"\n",
    "\n",
    "model = None\n",
    "\n",
    "\n",
    "##################################################################\n",
    "# MODEL\n",
    "needs_ground_truth = False\n",
    "model_needs_dataloader = True\n",
    "init_to_ground_truth_positions = False\n",
    "init_to_ground_truth_orientations = False\n",
    "do_not_sample = True # POZOR\n",
    "\n",
    "# TRAINING\n",
    "train_on_test = True\n",
    "max_epochs = 500\n",
    "max_time = 4\n",
    "patience = 7\n",
    "train_on_val = False\n",
    "test = True\n",
    "seed = 42\n",
    "batch_size = 10\n",
    "lr = 0.001\n",
    "\n",
    "# DATASET\n",
    "# brain_crop = 0.5 #None # 0.8\n",
    "brain_crop = None #None # 0.8\n",
    "# brain_crop = None\n",
    "stimulus_crop = None # \"auto\" or [110, 110]\n",
    "\n",
    "# only on of these can be True (or neither of them), if both were, it would be a double negation and reCNN would be set to the same y as the ground truth \n",
    "# negative_y_coordinate = True # this says that readout has to put minus in front of y\n",
    "positions_minus_y = True # this says that dataset has to put minus in front of y when loading the ground truth\n",
    "positions_minus_x = False # this says that dataset has to put minus in front of y when loading the ground truth\n",
    "\n",
    "\n",
    "################################################################\n",
    "\n",
    "config = get_config(\n",
    "    needs_ground_truth,\n",
    "    model_needs_dataloader,\n",
    "    init_to_ground_truth_positions,\n",
    "    init_to_ground_truth_orientations,\n",
    "    do_not_sample,\n",
    "    train_on_test,\n",
    "    max_epochs,\n",
    "    max_time,\n",
    "    patience,\n",
    "    train_on_val,\n",
    "    test,\n",
    "    seed,\n",
    "    batch_size,\n",
    "    lr,\n",
    "    brain_crop,\n",
    "    stimulus_crop,\n",
    "    positions_minus_x=positions_minus_x,\n",
    "    positions_minus_y=positions_minus_y,\n",
    ")"
   ]
  },
  {
   "cell_type": "code",
   "execution_count": 3,
   "metadata": {},
   "outputs": [],
   "source": [
    "config[\"train_data_dir\"] = \"/storage/brno2/home/mpicek/reCNN_visual_prosthesis/data/antolik_reparametrized/one_trials.pickle\"\n",
    "config[\"test_data_dir\"] = \"/storage/brno2/home/mpicek/reCNN_visual_prosthesis/data/antolik_reparametrized/ten_trials.pickle\""
   ]
  },
  {
   "cell_type": "code",
   "execution_count": 4,
   "metadata": {},
   "outputs": [
    {
     "name": "stdout",
     "output_type": "stream",
     "text": [
      "Data loaded successfully!\n",
      "Loaded precomputed mean from /storage/brno2/home/mpicek/reCNN_visual_prosthesis/data/antolik_reparametrized/ten_trials_mean.npy\n"
     ]
    }
   ],
   "source": [
    "dm = Antolik_dataset_preparation_function(config, load_data=True)"
   ]
  },
  {
   "cell_type": "code",
   "execution_count": 17,
   "metadata": {},
   "outputs": [],
   "source": [
    "a = next(iter(dm.train_dataloader()))"
   ]
  },
  {
   "cell_type": "code",
   "execution_count": 46,
   "metadata": {},
   "outputs": [
    {
     "data": {
      "text/html": [
       "Finishing last run (ID:1p8uouxl) before initializing another..."
      ],
      "text/plain": [
       "<IPython.core.display.HTML object>"
      ]
     },
     "metadata": {},
     "output_type": "display_data"
    },
    {
     "data": {
      "text/html": [
       "<br/>Waiting for W&B process to finish, PID 610209... <strong style=\"color:green\">(success).</strong>"
      ],
      "text/plain": [
       "<IPython.core.display.HTML object>"
      ]
     },
     "metadata": {},
     "output_type": "display_data"
    },
    {
     "data": {
      "text/html": [
       "<style>\n",
       "    table.wandb td:nth-child(1) { padding: 0 10px; text-align: right }\n",
       "    .wandb-row { display: flex; flex-direction: row; flex-wrap: wrap; width: 100% }\n",
       "    .wandb-col { display: flex; flex-direction: column; flex-basis: 100%; flex: 1; padding: 10px; }\n",
       "    </style>\n",
       "<div class=\"wandb-row\"><div class=\"wandb-col\">\n",
       "</div><div class=\"wandb-col\">\n",
       "</div></div>\n",
       "Synced 5 W&B file(s), 0 media file(s), 0 artifact file(s) and 0 other file(s)\n",
       "<br/>Synced <strong style=\"color:#cdcd00\">iconic-shadow-252</strong>: <a href=\"https://wandb.ai/csng-cuni/reCNN_visual_prosthesis/runs/1p8uouxl\" target=\"_blank\">https://wandb.ai/csng-cuni/reCNN_visual_prosthesis/runs/1p8uouxl</a><br/>\n",
       "Find logs at: <code>./wandb/run-20230305_222141-1p8uouxl/logs</code><br/>\n"
      ],
      "text/plain": [
       "<IPython.core.display.HTML object>"
      ]
     },
     "metadata": {},
     "output_type": "display_data"
    },
    {
     "data": {
      "text/html": [
       "Successfully finished last run (ID:1p8uouxl). Initializing new run:<br/>"
      ],
      "text/plain": [
       "<IPython.core.display.HTML object>"
      ]
     },
     "metadata": {},
     "output_type": "display_data"
    },
    {
     "name": "stderr",
     "output_type": "stream",
     "text": [
      "\u001b[34m\u001b[1mwandb\u001b[0m: wandb version 0.13.10 is available!  To upgrade, please run:\n",
      "\u001b[34m\u001b[1mwandb\u001b[0m:  $ pip install wandb --upgrade\n"
     ]
    },
    {
     "data": {
      "text/html": [
       "\n",
       "                    Syncing run <strong><a href=\"https://wandb.ai/csng-cuni/reCNN_visual_prosthesis/runs/15o0td14\" target=\"_blank\">zany-armadillo-253</a></strong> to <a href=\"https://wandb.ai/csng-cuni/reCNN_visual_prosthesis\" target=\"_blank\">Weights & Biases</a> (<a href=\"https://docs.wandb.com/integrations/jupyter.html\" target=\"_blank\">docs</a>).<br/>\n",
       "\n",
       "                "
      ],
      "text/plain": [
       "<IPython.core.display.HTML object>"
      ]
     },
     "metadata": {},
     "output_type": "display_data"
    },
    {
     "name": "stderr",
     "output_type": "stream",
     "text": [
      "Global seed set to 42\n"
     ]
    },
    {
     "name": "stdout",
     "output_type": "stream",
     "text": [
      "Model from ./artifacts/StackedCore_FullGaussian2d:v1878/epoch=12-step=5199.ckpt loaded!\n"
     ]
    },
    {
     "name": "stderr",
     "output_type": "stream",
     "text": [
      "/opt/conda/lib/python3.8/site-packages/neuralpredictors/measures/modules.py:78: UserWarning: Poissonloss is averaged per batch. It's recommended to use `sum` instead\n",
      "  warnings.warn(\"Poissonloss is averaged per batch. It's recommended to use `sum` instead\")\n",
      "/opt/conda/lib/python3.8/site-packages/neuralpredictors/layers/cores/conv2d.py:128: UserWarning: The averaged value of regularizer will be used.\n",
      "  warnings.warn(\"The averaged value of regularizer will be used.\", UserWarning)\n"
     ]
    }
   ],
   "source": [
    "class TrainableImage(pl.LightningModule):\n",
    "    def __init__(self, image_size, enc, min_pixel_value=-1.757, max_pixel_value=2.0408):\n",
    "        super().__init__()\n",
    "        self.image_size = image_size\n",
    "        self.min_pixel_value = min_pixel_value\n",
    "        self.max_pixel_value = max_pixel_value\n",
    "\n",
    "        if type(enc) == type(\"a\"):\n",
    "            self.set_encoder(enc)\n",
    "        else:\n",
    "            self.encoder = enc\n",
    "        \n",
    "        self.weights = torch.nn.Parameter(data=torch.rand((self.image_size, self.image_size)))\n",
    "        for param in self.encoder.parameters():\n",
    "            param.requires_grad = False\n",
    "    \n",
    "    def forward(self, x): # x are just ones\n",
    "        \n",
    "        x = x * self.weights\n",
    "\n",
    "        mean = torch.mean(x)\n",
    "        std = torch.std(x)\n",
    "        x = (x - mean) / std\n",
    "        x = torch.clip(x, min=self.min_pixel_value, max=self.max_pixel_value)\n",
    "        \n",
    "        x = self.encoder(x)\n",
    "        return x[:,0]\n",
    "\n",
    "    def training_step(self, batch, batch_idx):\n",
    "        x, y = batch\n",
    "        loss = -torch.mean(self(x))\n",
    "        return loss\n",
    "    \n",
    "    def set_encoder(self, artifact_name):\n",
    "        self.encoder = download_model(artifact_name=artifact_name, model_class=Lurz_Control_Model)\n",
    "    \n",
    "    def configure_optimizers(self):\n",
    "        return torch.optim.Adam(self.parameters(), lr=0.02)\n",
    "\n",
    "im = TrainableImage(image_size=110, enc=\"StackedCore_FullGaussian2d:v1878\")"
   ]
  },
  {
   "cell_type": "code",
   "execution_count": 47,
   "metadata": {},
   "outputs": [],
   "source": [
    "from torch.utils.data import DataLoader\n",
    "from torch.utils.data import Dataset\n",
    "\n",
    "class OnesDataset(Dataset):\n",
    "    def __init__(self, size=110, length=1000):\n",
    "\n",
    "        self.size = size\n",
    "        self.length = length\n",
    "\n",
    "    def __len__(self):\n",
    "        return self.length\n",
    "\n",
    "    def __getitem__(self, idx): \n",
    "        \"\"\"\n",
    "            This is the critical method in this class. It allows us to get \n",
    "            an instance by an id.\n",
    "        \"\"\"\n",
    "        ones = torch.ones(1, self.size, self.size)\n",
    "\n",
    "        return ones, 0\n",
    "    \n",
    "class OneImageDataModule(pl.LightningDataModule):\n",
    "    def __init__(self, size=110, batch_size=10):\n",
    "        super().__init__()\n",
    "        self.size = size\n",
    "        self.batch_size = batch_size\n",
    "\n",
    "    def setup(self):\n",
    "        self.train = OnesDataset(self.size, 1000)\n",
    "        self.val = OnesDataset(self.size, 10)\n",
    "        self.test = OnesDataset(self.size, 1000)\n",
    "\n",
    "    def train_dataloader(self):\n",
    "        return DataLoader(self.train, batch_size=self.batch_size)\n",
    "\n",
    "    def val_dataloader(self):\n",
    "        return DataLoader(self.val, batch_size=self.batch_size)\n",
    "\n",
    "    def test_dataloader(self):\n",
    "        return DataLoader(self.test, batch_size=self.batch_size)\n"
   ]
  },
  {
   "cell_type": "code",
   "execution_count": 48,
   "metadata": {},
   "outputs": [],
   "source": [
    "dm = OneImageDataModule(size=110, batch_size=100)\n",
    "dm.setup()"
   ]
  },
  {
   "cell_type": "code",
   "execution_count": 49,
   "metadata": {},
   "outputs": [
    {
     "name": "stderr",
     "output_type": "stream",
     "text": [
      "GPU available: True, used: True\n",
      "TPU available: False, using: 0 TPU cores\n",
      "IPU available: False, using: 0 IPUs\n"
     ]
    }
   ],
   "source": [
    "trainer = pl.Trainer(\n",
    "    callbacks=[],\n",
    "    max_epochs=10,\n",
    "    gpus=[0],\n",
    "    logger=False,\n",
    "    log_every_n_steps=100,\n",
    "    enable_checkpointing=True,\n",
    ")"
   ]
  },
  {
   "cell_type": "code",
   "execution_count": 50,
   "metadata": {},
   "outputs": [
    {
     "name": "stderr",
     "output_type": "stream",
     "text": [
      "/opt/conda/lib/python3.8/site-packages/pytorch_lightning/trainer/configuration_validator.py:116: UserWarning: You passed in a `val_dataloader` but have no `validation_step`. Skipping val loop.\n",
      "  rank_zero_warn(\"You passed in a `val_dataloader` but have no `validation_step`. Skipping val loop.\")\n",
      "LOCAL_RANK: 0 - CUDA_VISIBLE_DEVICES: [GPU-e8f2ab5c-0440-2a4f-ed6c-dbcc17039599]\n",
      "\n",
      "  | Name    | Type               | Params\n",
      "-----------------------------------------------\n",
      "0 | encoder | Lurz_Control_Model | 1.0 M \n",
      "-----------------------------------------------\n",
      "12.1 K    Trainable params\n",
      "1.0 M     Non-trainable params\n",
      "1.0 M     Total params\n",
      "4.136     Total estimated model params size (MB)\n",
      "/opt/conda/lib/python3.8/site-packages/pytorch_lightning/callbacks/model_checkpoint.py:617: UserWarning: Checkpoint directory /auto/budejovice1/mpicek/reCNN_visual_prosthesis/checkpoints exists and is not empty.\n",
      "  rank_zero_warn(f\"Checkpoint directory {dirpath} exists and is not empty.\")\n",
      "/opt/conda/lib/python3.8/site-packages/pytorch_lightning/trainer/data_loading.py:110: UserWarning: The dataloader, train_dataloader, does not have many workers which may be a bottleneck. Consider increasing the value of the `num_workers` argument` (try 40 which is the number of cpus on this machine) in the `DataLoader` init to improve performance.\n",
      "  rank_zero_warn(\n"
     ]
    },
    {
     "name": "stdout",
     "output_type": "stream",
     "text": [
      "Epoch 9: 100%|██████████| 10/10 [00:01<00:00,  7.34it/s, loss=-96.5]\n"
     ]
    }
   ],
   "source": [
    "trainer.fit(\n",
    "    im,\n",
    "    train_dataloaders=dm.train_dataloader(),\n",
    "    val_dataloaders=dm.val_dataloader(),\n",
    ")"
   ]
  },
  {
   "cell_type": "code",
   "execution_count": 51,
   "metadata": {},
   "outputs": [],
   "source": [
    "w = im.weights\n",
    "w = w.cpu().detach().numpy()"
   ]
  },
  {
   "cell_type": "code",
   "execution_count": 52,
   "metadata": {},
   "outputs": [
    {
     "data": {
      "text/plain": [
       "<matplotlib.image.AxesImage at 0x14daa1662280>"
      ]
     },
     "execution_count": 52,
     "metadata": {},
     "output_type": "execute_result"
    },
    {
     "data": {
      "image/png": "[encoded data removed]",
      "text/plain": [
       "<Figure size 576x576 with 1 Axes>"
      ]
     },
     "metadata": {
      "needs_background": "light"
     },
     "output_type": "display_data"
    }
   ],
   "source": [
    "plt.figure(figsize = (8,8))\n",
    "plt.imshow(w2)"
   ]
  }
 ],
 "metadata": {
  "kernelspec": {
   "display_name": "Python 3",
   "language": "python",
   "name": "python3"
  },
  "language_info": {
   "codemirror_mode": {
    "name": "ipython",
    "version": 3
   },
   "file_extension": ".py",
   "mimetype": "text/x-python",
   "name": "python",
   "nbconvert_exporter": "python",
   "pygments_lexer": "ipython3",
   "version": "3.8.8"
  },
  "orig_nbformat": 4
 },
 "nbformat": 4,
 "nbformat_minor": 2
}
