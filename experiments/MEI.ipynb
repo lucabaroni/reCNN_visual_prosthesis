{
 "cells": [
  {
   "cell_type": "code",
   "execution_count": 2,
   "metadata": {},
   "outputs": [],
   "source": [
    "import sys\n",
    "import pathlib\n",
    "sys.path.insert(0, str(pathlib.Path(\n",
    ").resolve().parent)) #.. this has to be the folder reCNN_visual_prosthesis\n",
    "import wandb\n",
    "import glob\n",
    "from models import reCNN_bottleneck_CyclicGauss3d_no_scaling\n",
    "import matplotlib.pyplot as plt\n",
    "import numpy as np\n",
    "import torchvision.transforms as transforms\n",
    "from Antolik_dataset import AntolikDataset, AntolikDataModule\n",
    "from experiments.utils import pickle_read, download_model, get_neuron_estimates, reconstruct_orientation_maps, visualize_preferred_orientations, rotate_and_compute_distances, circular_distance\n",
    "import pytorch_lightning as pl\n",
    "import torch\n",
    "from model_trainer import run_wandb_training\n",
    "from energy_model.energy_model import EnergyModel, EnergyModelIndividual\n",
    "from train_on_antolik import get_config\n",
    "from model_trainer import Antolik_dataset_preparation_function, get_model\n",
    "\n",
    "import torch.nn as nn\n",
    "import torch.optim as optim\n",
    "from experiments.utils import pickle_read, download_model\n",
    "from tqdm import tqdm"
   ]
  },
  {
   "cell_type": "markdown",
   "metadata": {},
   "source": [
    "# First, create the trainable image and train it on the first neuron of the encoder"
   ]
  },
  {
   "cell_type": "code",
   "execution_count": 3,
   "metadata": {},
   "outputs": [],
   "source": [
    "import torch\n",
    "import torch.nn as nn\n",
    "\n",
    "def StandardizeClip(mean, std, pixel_min=None, pixel_max=None, dim=[1, 2, 3]):\n",
    "    # module that uses Standardize and Clip, see below\n",
    "    transf = [Normalize(mean=mean, std=std, dim=dim)]\n",
    "    if pixel_min != None or pixel_max != None:\n",
    "        transf.append(Clip(pixel_min=pixel_min, pixel_max=pixel_max))\n",
    "    return nn.Sequential(*transf)\n",
    "\n",
    "class Normalize(nn.Module):\n",
    "    # module that normalizes the image to have mean and std\n",
    "    def __init__(self, mean=None, std=None, dim=None, eps=1e-12):\n",
    "        super().__init__()\n",
    "        self.mean = mean\n",
    "        self.std = std\n",
    "        self.dim = dim\n",
    "        self.eps = eps\n",
    "    def forward(self, x, iteration=None):\n",
    "        x_mean = x.mean(dim=self.dim, keepdims=True)\n",
    "        target_mean = self.mean if self.mean is not None else x_mean\n",
    "        x_std = x.std(dim=self.dim, keepdims=True)\n",
    "        target_std = self.std if self.std is not None else x_std\n",
    "        return target_std * (x - target_mean) / (x_std + self.eps) #+ target_mean\n",
    "\n",
    "class Clip(nn.Module):\n",
    "    # module that only clips values of the image\n",
    "    def __init__(self, pixel_min, pixel_max):\n",
    "        super().__init__()\n",
    "        self.pixel_min = pixel_min\n",
    "        self.pixel_max = pixel_max\n",
    "    def forward(self, x):\n",
    "        x = torch.clamp(x, min=self.pixel_min, max=self.pixel_max)\n",
    "        return x"
   ]
  },
  {
   "cell_type": "code",
   "execution_count": 4,
   "metadata": {},
   "outputs": [],
   "source": [
    "class TrainableImage(nn.Module):\n",
    "    def __init__(self, img_size, n=1, c=1):\n",
    "        super().__init__()\n",
    "        self.img = nn.Parameter((torch.randn(n, c,*img_size)))\n",
    "    def forward(self):\n",
    "        return self.img"
   ]
  },
  {
   "cell_type": "code",
   "execution_count": 5,
   "metadata": {},
   "outputs": [],
   "source": [
    "def plot_img(img, pixel_min, pixel_max):\n",
    "    plt.figure(figsize = (8,8))\n",
    "    if type(img) != np.ndarray:\n",
    "        img = img.cpu().detach().squeeze().numpy()\n",
    "    plt.imshow(img, cmap=\"PiYG\", vmax=pixel_max, vmin=pixel_min)\n",
    "    plt.colorbar()\n",
    "    plt.show()"
   ]
  },
  {
   "cell_type": "code",
   "execution_count": 6,
   "metadata": {},
   "outputs": [
    {
     "name": "stderr",
     "output_type": "stream",
     "text": [
      "Failed to detect the name of this notebook, you can set it manually with the WANDB_NOTEBOOK_NAME environment variable to enable code saving.\n",
      "\u001b[34m\u001b[1mwandb\u001b[0m: Currently logged in as: \u001b[33mcsng-cuni\u001b[0m (use `wandb login --relogin` to force relogin)\n"
     ]
    },
    {
     "name": "stderr",
     "output_type": "stream",
     "text": [
      "\u001b[34m\u001b[1mwandb\u001b[0m: wandb version 0.15.9 is available!  To upgrade, please run:\n",
      "\u001b[34m\u001b[1mwandb\u001b[0m:  $ pip install wandb --upgrade\n"
     ]
    },
    {
     "data": {
      "text/html": [
       "\n",
       "                    Syncing run <strong><a href=\"https://wandb.ai/csng-cuni/reCNN_visual_prosthesis/runs/2nl8kvjt\" target=\"_blank\">driven-lake-195</a></strong> to <a href=\"https://wandb.ai/csng-cuni/reCNN_visual_prosthesis\" target=\"_blank\">Weights & Biases</a> (<a href=\"https://docs.wandb.com/integrations/jupyter.html\" target=\"_blank\">docs</a>).<br/>\n",
       "\n",
       "                "
      ],
      "text/plain": [
       "<IPython.core.display.HTML object>"
      ]
     },
     "metadata": {},
     "output_type": "display_data"
    },
    {
     "name": "stderr",
     "output_type": "stream",
     "text": [
      "Global seed set to 42\n",
      "/opt/conda/lib/python3.8/site-packages/neuralpredictors/measures/modules.py:78: UserWarning: Poissonloss is averaged per batch. It's recommended to use `sum` instead\n",
      "  warnings.warn(\"Poissonloss is averaged per batch. It's recommended to use `sum` instead\")\n",
      "/opt/conda/lib/python3.8/site-packages/neuralpredictors/layers/cores/conv2d.py:128: UserWarning: The averaged value of regularizer will be used.\n",
      "  warnings.warn(\"The averaged value of regularizer will be used.\", UserWarning)\n"
     ]
    },
    {
     "name": "stdout",
     "output_type": "stream",
     "text": [
      "Model from ./artifacts/reCNN_bottleneck_CyclicGauss3d:v1011/epoch=13-step=55999.ckpt loaded!\n"
     ]
    },
    {
     "name": "stderr",
     "output_type": "stream",
     "text": [
      "/auto/budejovice1/mpicek/reCNN_visual_prosthesis/readout.py:344: UserWarning: sigma is sampled from uniform distribution, instead of a fixed value. Consider setting fixed_sigma to True\n",
      "  warnings.warn(\n"
     ]
    },
    {
     "data": {
      "text/html": [
       "Finishing last run (ID:2nl8kvjt) before initializing another..."
      ],
      "text/plain": [
       "<IPython.core.display.HTML object>"
      ]
     },
     "metadata": {},
     "output_type": "display_data"
    },
    {
     "data": {
      "text/html": [
       "<br/>Waiting for W&B process to finish, PID 919098... <strong style=\"color:green\">(success).</strong>"
      ],
      "text/plain": [
       "<IPython.core.display.HTML object>"
      ]
     },
     "metadata": {},
     "output_type": "display_data"
    },
    {
     "data": {
      "application/vnd.jupyter.widget-view+json": {
       "model_id": "e4f5ff042ace42e8ac8cde3cbfe5c287",
       "version_major": 2,
       "version_minor": 0
      },
      "text/plain": [
       "VBox(children=(Label(value=' 0.00MB of 0.00MB uploaded (0.00MB deduped)\\r'), FloatProgress(value=1.0, max=1.0)…"
      ]
     },
     "metadata": {},
     "output_type": "display_data"
    },
    {
     "data": {
      "text/html": [
       "<style>\n",
       "    table.wandb td:nth-child(1) { padding: 0 10px; text-align: right }\n",
       "    .wandb-row { display: flex; flex-direction: row; flex-wrap: wrap; width: 100% }\n",
       "    .wandb-col { display: flex; flex-direction: column; flex-basis: 100%; flex: 1; padding: 10px; }\n",
       "    </style>\n",
       "<div class=\"wandb-row\"><div class=\"wandb-col\">\n",
       "</div><div class=\"wandb-col\">\n",
       "</div></div>\n",
       "Synced 5 W&B file(s), 0 media file(s), 0 artifact file(s) and 0 other file(s)\n",
       "<br/>Synced <strong style=\"color:#cdcd00\">driven-lake-195</strong>: <a href=\"https://wandb.ai/csng-cuni/reCNN_visual_prosthesis/runs/2nl8kvjt\" target=\"_blank\">https://wandb.ai/csng-cuni/reCNN_visual_prosthesis/runs/2nl8kvjt</a><br/>\n",
       "Find logs at: <code>./wandb/run-20230903_175511-2nl8kvjt/logs</code><br/>\n"
      ],
      "text/plain": [
       "<IPython.core.display.HTML object>"
      ]
     },
     "metadata": {},
     "output_type": "display_data"
    },
    {
     "data": {
      "text/html": [
       "Successfully finished last run (ID:2nl8kvjt). Initializing new run:<br/>"
      ],
      "text/plain": [
       "<IPython.core.display.HTML object>"
      ]
     },
     "metadata": {},
     "output_type": "display_data"
    },
    {
     "name": "stderr",
     "output_type": "stream",
     "text": [
      "\u001b[34m\u001b[1mwandb\u001b[0m: wandb version 0.15.9 is available!  To upgrade, please run:\n",
      "\u001b[34m\u001b[1mwandb\u001b[0m:  $ pip install wandb --upgrade\n"
     ]
    },
    {
     "data": {
      "text/html": [
       "\n",
       "                    Syncing run <strong><a href=\"https://wandb.ai/csng-cuni/reCNN_visual_prosthesis/runs/8oisz55y\" target=\"_blank\">gallant-rain-196</a></strong> to <a href=\"https://wandb.ai/csng-cuni/reCNN_visual_prosthesis\" target=\"_blank\">Weights & Biases</a> (<a href=\"https://docs.wandb.com/integrations/jupyter.html\" target=\"_blank\">docs</a>).<br/>\n",
       "\n",
       "                "
      ],
      "text/plain": [
       "<IPython.core.display.HTML object>"
      ]
     },
     "metadata": {},
     "output_type": "display_data"
    },
    {
     "name": "stderr",
     "output_type": "stream",
     "text": [
      "Global seed set to 42\n",
      "\u001b[34m\u001b[1mwandb\u001b[0m: Downloading large artifact EnergyModel:v486, 115.66MB. 1 files... Done. 0:0:0\n",
      "/opt/conda/lib/python3.8/site-packages/neuralpredictors/measures/modules.py:78: UserWarning: Poissonloss is averaged per batch. It's recommended to use `sum` instead\n",
      "  warnings.warn(\"Poissonloss is averaged per batch. It's recommended to use `sum` instead\")\n"
     ]
    },
    {
     "name": "stdout",
     "output_type": "stream",
     "text": [
      "(55, 55)\n",
      "[-5.5, 5.5]\n",
      "[-5.5, 5.5]\n",
      "-------------\n",
      "Model from ./artifacts/EnergyModel:v486/epoch=7-step=2127.ckpt loaded!\n"
     ]
    }
   ],
   "source": [
    "bottleneck_model = download_model(artifact_name=\"reCNN_bottleneck_CyclicGauss3d:v1011\", model_class=reCNN_bottleneck_CyclicGauss3d_no_scaling)\n",
    "energy_model = download_model(artifact_name=\"EnergyModel:v486\", model_class=EnergyModel)\n"
   ]
  },
  {
   "cell_type": "markdown",
   "metadata": {},
   "source": [
    "# Now train Gabor filter on the obtained MEI"
   ]
  },
  {
   "cell_type": "code",
   "execution_count": 7,
   "metadata": {},
   "outputs": [
    {
     "name": "stdout",
     "output_type": "stream",
     "text": [
      "Data loaded successfully!\n",
      "Loaded precomputed mean from /storage/brno2/home/mpicek/reCNN_visual_prosthesis/data/antolik_reparametrized_small/one_trials_mean.npy\n"
     ]
    }
   ],
   "source": [
    "config = get_config()\n",
    "config[\"train_data_dir\"] = \"/storage/brno2/home/mpicek/reCNN_visual_prosthesis/data/antolik_reparametrized_small/one_trials.pickle\"\n",
    "config[\"test_data_dir\"] = \"/storage/brno2/home/mpicek/reCNN_visual_prosthesis/data/antolik_reparametrized_small/ten_trials.pickle\"\n",
    "\n",
    "dm = Antolik_dataset_preparation_function(config, load_data=True)\n",
    "\n",
    "pos_x, pos_y, orientations = dm.get_ground_truth(\n",
    "    ground_truth_positions_file_path=config[\"ground_truth_positions_file_path\"], \n",
    "    ground_truth_orientations_file_path=config[\"ground_truth_orientations_file_path\"], \n",
    "    in_degrees=False, \n",
    "    positions_minus_y=config[\"positions_minus_y\"], \n",
    "    positions_minus_x=config[\"positions_minus_x\"], \n",
    "    positions_swap_axes=config[\"positions_swap_axes\"]\n",
    ")"
   ]
  },
  {
   "cell_type": "code",
   "execution_count": 8,
   "metadata": {},
   "outputs": [],
   "source": [
    "class GaborFilter(nn.Module):\n",
    "    def __init__(self, min_pixel_intensity=-1.7, max_pixel_intensity=2, min_sigma=0.0000000001, \n",
    "                 init_pos_x=None, init_pos_y=None, init_ori=None, init_f=None, dataset_default_ori_shift=90):\n",
    "        super().__init__()\n",
    "\n",
    "        # initialize to large enough to cover the whole visual field, allowing the gradient\n",
    "        # to flow from all positions, so that the model can decide on the best positions of neuron\n",
    "        self.sigma_x = nn.Parameter(torch.ones(1) * 0.94) \n",
    "        self.sigma_y = nn.Parameter(torch.ones(1) * 0.94)\n",
    "\n",
    "        if init_f is not None:\n",
    "            self.f = nn.Parameter(torch.ones(1) * init_f)\n",
    "        else:\n",
    "            self.f = nn.Parameter(torch.rand(1))\n",
    "\n",
    "        if init_ori is not None:\n",
    "            # remainder because the dataset has 90 degrees default shift\n",
    "            self.ori = nn.Parameter(torch.ones(1) * init_ori)\n",
    "        else:\n",
    "            self.ori = nn.Parameter(torch.rand(1))\n",
    "\n",
    "        if init_pos_x is not None:\n",
    "            self.pos_x = nn.Parameter(torch.ones(1) * init_pos_x)\n",
    "        else:\n",
    "            self.pos_x = nn.Parameter(torch.rand(1))\n",
    "\n",
    "        if init_pos_y is not None:\n",
    "            self.pos_y = nn.Parameter(torch.ones(1) * init_pos_y)\n",
    "        else:\n",
    "            self.pos_y = nn.Parameter(torch.rand(1))\n",
    "\n",
    "        self.shift = nn.Parameter(torch.rand(1))\n",
    "        self.scale = nn.Parameter(torch.ones(1))\n",
    "\n",
    "        self.min_pixel_intensity = min_pixel_intensity\n",
    "        self.max_pixel_intensity = max_pixel_intensity\n",
    "\n",
    "        self.min_sigma = min_sigma\n",
    "\n",
    "        x = np.linspace(-5.5, 5.5, 55)\n",
    "        y = np.linspace(-5.5, 5.5, 55)\n",
    "        self.meshgrid_x, self.meshgrid_y = np.meshgrid(x, y)\n",
    "        self.meshgrid_x =  torch.from_numpy(self.meshgrid_x).float()\n",
    "        self.meshgrid_y =  torch.from_numpy(self.meshgrid_y).float()\n",
    "\n",
    "        self.meshgrid_x = self.meshgrid_x.to('cuda')\n",
    "        self.meshgrid_y = self.meshgrid_y.to('cuda')\n",
    "        self.dataset_default_ori_shift = dataset_default_ori_shift\n",
    "\n",
    "    def forward(self, x):\n",
    "        ori = torch.remainder(self.ori + ((self.dataset_default_ori_shift / 180) * np.pi), np.pi)\n",
    "        meshgrid_x_rotated = self.meshgrid_x * torch.cos(ori) - self.meshgrid_y * torch.sin(ori)\n",
    "        meshgrid_y_rotated = self.meshgrid_x * torch.sin(ori) + self.meshgrid_y * torch.cos(ori)\n",
    "\n",
    "        rotated_pos_x = torch.cos(ori) * self.pos_x - torch.sin(ori) * self.pos_y\n",
    "        rotated_pos_y = torch.sin(ori) * self.pos_x + torch.cos(ori) * self.pos_y\n",
    "\n",
    "        gaussian_filter = torch.clip(self.scale, min=self.min_pixel_intensity, max=self.max_pixel_intensity) * torch.exp(\n",
    "            -0.5\n",
    "            * (\n",
    "                (\n",
    "                    torch.square(meshgrid_x_rotated - rotated_pos_x)\n",
    "                    / (torch.square(self.sigma_x) + self.min_sigma) # + minimum_sigma as we don't want to divide by 0\n",
    "                )\n",
    "                + (\n",
    "                    torch.square(meshgrid_y_rotated - rotated_pos_y)\n",
    "                    / (torch.square(self.sigma_y) + self.min_sigma) # + minimum_sigma as we don't want to divide by 0\n",
    "                )\n",
    "            )\n",
    "        )\n",
    "\n",
    "        cosine_filter = torch.cos(\n",
    "            2\n",
    "            * np.pi\n",
    "            * (meshgrid_x_rotated + rotated_pos_x)\n",
    "            * self.f\n",
    "            + torch.remainder(self.shift, 2*np.pi)\n",
    "        )\n",
    "\n",
    "        gabor_filter = gaussian_filter * cosine_filter\n",
    "        out = torch.tensordot(x, gabor_filter)\n",
    "        img_err = torch.square(x - gabor_filter)\n",
    "        return out, gabor_filter, img_err"
   ]
  },
  {
   "cell_type": "code",
   "execution_count": 9,
   "metadata": {},
   "outputs": [],
   "source": [
    "def show_three_images(image1, image2, image3, pixel_min, pixel_max):\n",
    "    # plt.figure(figsize = (8,16))\n",
    "    fig, ax = plt.subplots(1, 3, figsize=(15, 5))\n",
    "    ax[0].imshow(image1, cmap=\"PiYG\", vmax=pixel_max, vmin=pixel_min)\n",
    "    ax[1].imshow(image2, cmap=\"PiYG\", vmax=pixel_max, vmin=pixel_min)\n",
    "    ax[2].imshow(image3, cmap=\"PiYG\", vmax=pixel_max, vmin=pixel_min)\n",
    "    plt.show()\n",
    "\n",
    "def show_four_images(image1, image2, image3, image4, pixel_min, pixel_max):\n",
    "    # plt.figure(figsize = (8,16))\n",
    "    fig, ax = plt.subplots(1, 4, figsize=(15, 5))\n",
    "    ax[0].imshow(image1, cmap=\"PiYG\", vmax=pixel_max, vmin=pixel_min)\n",
    "    ax[1].imshow(image2, cmap=\"PiYG\", vmax=pixel_max, vmin=pixel_min)\n",
    "    ax[2].imshow(image3, cmap=\"PiYG\", vmax=pixel_max, vmin=pixel_min)\n",
    "    ax[3].imshow(image3, cmap=\"PiYG\", vmax=pixel_max, vmin=pixel_min)\n",
    "    plt.show()"
   ]
  },
  {
   "cell_type": "markdown",
   "metadata": {},
   "source": [
    "## Set the positions to 0 and slowly rotate the neuron\n",
    "**This check ensures that the network is really rot equivarian. TODO: try different locations - to ensure location equivariancy.t**\n",
    "**Delete this bottom cell for seeing real neurons (their real ori and pos)**"
   ]
  },
  {
   "cell_type": "code",
   "execution_count": 10,
   "metadata": {},
   "outputs": [],
   "source": [
    "# pos_x[0] = 0\n",
    "# pos_y[0] = 0\n",
    "# orientations[0] = 0\n",
    "# pos_x[1] = 0\n",
    "# pos_y[1] = 0\n",
    "# orientations[1] = 0.25\n",
    "# pos_x[2] = 0\n",
    "# pos_y[2] = 0\n",
    "# orientations[2] = 0.5\n",
    "# for i in range(30):\n",
    "#     pos_x[i] = 0\n",
    "#     pos_y[i] = 0\n",
    "#     orientations[i] = 1/30 * i\n",
    "\n",
    "#     bottleneck_model.readout.mu[0, 0, i, 0, 0] = 0\n",
    "#     bottleneck_model.readout.mu[0, 0, i, 0, 1] = 0\n",
    "#     bottleneck_model.readout.mu[0, 0, i, 0, 2] = 1/30 * i\n",
    "\n",
    "# energy_model.positions_x = torch.zeros(encoder.positions_x.shape)\n",
    "# energy_model.positions_y = torch.zeros(encoder.positions_y.shape)\n",
    "# for i in range(30):\n",
    "#     energy_model.positions_y[i] = 1/30 * i\n",
    "# energy_model.init_gabor_filters((55, 55), [-5.5, 5.5], [-5.5, 5.5])\n"
   ]
  },
  {
   "cell_type": "markdown",
   "metadata": {},
   "source": [
    "### We will always train the MEI and then fit Gabor filter on it\n",
    "- here, we also want to see the parameters of the Gabor\n",
    "- therefore, we do the same computation on different neurons\n",
    "\n",
    "**The neurons have sometimes swapped sides (purple and green). The activation for inversed MEI (if we manually swap the purple and green) is almost the same, so it is alright. Our network obviously learned the complex behaviour of V1 cells.**"
   ]
  },
  {
   "cell_type": "code",
   "execution_count": 11,
   "metadata": {},
   "outputs": [],
   "source": [
    "def train_mei(model, device, neuron, std=0.1, steps=500):\n",
    "    \n",
    "    bar = tqdm(range(steps))\n",
    "\n",
    "    min_pixel_value = -1.757\n",
    "    max_pixel_value = 2.04\n",
    "    my_clip = StandardizeClip((max_pixel_value + min_pixel_value) / 2, std, min_pixel_value, max_pixel_value)\n",
    "\n",
    "    im = TrainableImage([55, 55])\n",
    "\n",
    "    optim = torch.optim.Adam(im.parameters(), lr=0.02)\n",
    "\n",
    "    im.to(device=device)\n",
    "    model.to(device=device)\n",
    "    my_clip.to(device=device)\n",
    "    im.train()\n",
    "    model.eval()\n",
    "    \n",
    "    activation = None\n",
    "    for step in bar:\n",
    "        optim.zero_grad()\n",
    "        activation = model(my_clip(im()))\n",
    "        loss = -torch.mean(activation[:,neuron])\n",
    "        loss.backward()\n",
    "        optim.step()\n",
    "        bar.set_description(f\"activation = {-loss}\")\n",
    "    print(\"Last activation\", torch.mean(activation[:,neuron]))\n",
    "\n",
    "    # Testing the polarity (make an inverse MEI and see if the activation is still high)\n",
    "    my_clip.eval()\n",
    "    mean = my_clip(im()).mean()\n",
    "    inversed_MEI = -(my_clip(im()) - mean) + mean\n",
    "    inverse_activation = model(inversed_MEI)\n",
    "    print(\"Inverse activation\", torch.mean(inverse_activation[:,neuron]))\n",
    "    return my_clip(im()).cpu().detach().squeeze().numpy()\n",
    "\n",
    "def train_gabor(gabor, mei, device, steps=4000):\n",
    "    gabor.to(device=device)\n",
    "\n",
    "    optim = torch.optim.Adam(gabor.parameters(), lr=0.01)\n",
    "    gabor.train()\n",
    "    mei = torch.from_numpy(mei)\n",
    "    mei = mei.to(device=device)\n",
    "\n",
    "    gabor_bar = tqdm(range(steps))\n",
    "\n",
    "    for step in gabor_bar:\n",
    "        optim.zero_grad()\n",
    "        err, gab, img_err = gabor(mei)\n",
    "        loss = torch.mean(img_err)\n",
    "        loss.backward()\n",
    "        optim.step()\n",
    "        gabor_bar.set_description(f\"loss = {-loss}\")\n",
    "\n",
    "    _, gab, _ = gabor(mei)\n",
    "    return gab.cpu().detach().squeeze().numpy()"
   ]
  },
  {
   "cell_type": "code",
   "execution_count": 12,
   "metadata": {},
   "outputs": [
    {
     "name": "stderr",
     "output_type": "stream",
     "text": [
      "activation = 11.543139457702637: 100%|██████████| 500/500 [01:22<00:00,  6.07it/s]\n"
     ]
    },
    {
     "name": "stdout",
     "output_type": "stream",
     "text": [
      "Last activation tensor(11.5431, device='cuda:0', grad_fn=<MeanBackward0>)\n",
      "Inverse activation tensor(10.6893, device='cuda:0', grad_fn=<MeanBackward0>)\n"
     ]
    },
    {
     "name": "stderr",
     "output_type": "stream",
     "text": [
      "activation = 10.21536922454834: 100%|██████████| 500/500 [00:04<00:00, 103.63it/s] \n"
     ]
    },
    {
     "name": "stdout",
     "output_type": "stream",
     "text": [
      "Last activation tensor(10.2154, device='cuda:0', grad_fn=<MeanBackward0>)\n",
      "Inverse activation tensor(10.2157, device='cuda:0', grad_fn=<MeanBackward0>)\n"
     ]
    },
    {
     "data": {
      "image/png": "[encoded data removed]",
      "text/plain": [
       "<Figure size 576x576 with 2 Axes>"
      ]
     },
     "metadata": {
      "needs_background": "light"
     },
     "output_type": "display_data"
    },
    {
     "data": {
      "image/png": "[encoded data removed]",
      "text/plain": [
       "<Figure size 576x576 with 2 Axes>"
      ]
     },
     "metadata": {
      "needs_background": "light"
     },
     "output_type": "display_data"
    },
    {
     "name": "stderr",
     "output_type": "stream",
     "text": [
      "loss = -0.04808211326599121: 100%|██████████| 4000/4000 [00:14<00:00, 274.07it/s] \n"
     ]
    },
    {
     "data": {
      "image/png": "[encoded data removed]",
      "text/plain": [
       "<Figure size 1080x360 with 3 Axes>"
      ]
     },
     "metadata": {
      "needs_background": "light"
     },
     "output_type": "display_data"
    },
    {
     "name": "stdout",
     "output_type": "stream",
     "text": [
      "Sigmas_x [0.56400615]\n",
      "Sigmas_y [0.67069715]\n",
      "fs [0.61634254]\n"
     ]
    },
    {
     "name": "stderr",
     "output_type": "stream",
     "text": [
      "activation = 10.514724731445312: 100%|██████████| 500/500 [00:15<00:00, 31.38it/s]\n"
     ]
    },
    {
     "name": "stdout",
     "output_type": "stream",
     "text": [
      "Last activation tensor(10.5147, device='cuda:0', grad_fn=<MeanBackward0>)\n",
      "Inverse activation tensor(10.3383, device='cuda:0', grad_fn=<MeanBackward0>)\n"
     ]
    },
    {
     "name": "stderr",
     "output_type": "stream",
     "text": [
      "activation = 10.206918716430664: 100%|██████████| 500/500 [00:04<00:00, 106.42it/s]\n"
     ]
    },
    {
     "name": "stdout",
     "output_type": "stream",
     "text": [
      "Last activation tensor(10.2069, device='cuda:0', grad_fn=<MeanBackward0>)\n",
      "Inverse activation tensor(10.2149, device='cuda:0', grad_fn=<MeanBackward0>)\n"
     ]
    },
    {
     "data": {
      "image/png": "[encoded data removed]",
      "text/plain": [
       "<Figure size 576x576 with 2 Axes>"
      ]
     },
     "metadata": {
      "needs_background": "light"
     },
     "output_type": "display_data"
    },
    {
     "data": {
      "image/png": "[encoded data removed]",
      "text/plain": [
       "<Figure size 576x576 with 2 Axes>"
      ]
     },
     "metadata": {
      "needs_background": "light"
     },
     "output_type": "display_data"
    },
    {
     "name": "stderr",
     "output_type": "stream",
     "text": [
      "loss = -0.01015186682343483: 100%|██████████| 4000/4000 [00:14<00:00, 284.01it/s] \n"
     ]
    },
    {
     "data": {
      "image/png": "[encoded data removed]",
      "text/plain": [
       "<Figure size 1080x360 with 3 Axes>"
      ]
     },
     "metadata": {
      "needs_background": "light"
     },
     "output_type": "display_data"
    },
    {
     "name": "stdout",
     "output_type": "stream",
     "text": [
      "Sigmas_x [0.56400615, 0.5897774]\n",
      "Sigmas_y [0.67069715, 0.6438116]\n",
      "fs [0.61634254, 0.5621568]\n"
     ]
    }
   ],
   "source": [
    "stds = [0.15]\n",
    "fs_bm = []\n",
    "sigmas_x_bm = []\n",
    "sigmas_y_bm = []\n",
    "fs_em = []\n",
    "sigmas_x_em = []\n",
    "sigmas_y_em = []\n",
    "\n",
    "\n",
    "device = \"cuda\" if torch.cuda.is_available() else \"cpu\"\n",
    "\n",
    "num_neurons_to_test = 2\n",
    "\n",
    "# try different neurons\n",
    "for neuron in range(num_neurons_to_test):\n",
    "    meis_bm = []\n",
    "    meis_em = []\n",
    "\n",
    "    # and different stds\n",
    "    for std in stds:\n",
    "        # first, find the MEI\n",
    "\n",
    "        mei = train_mei(bottleneck_model, device, neuron, std=std)\n",
    "        meis_bm.append(mei)\n",
    "        mei = train_mei(energy_model, device, neuron, std=std)\n",
    "        meis_em.append(mei)\n",
    "\n",
    "        plot_img(meis_bm[-1], -1.7, 2)\n",
    "        plot_img(meis_em[-1], -1.7, 2)\n",
    "\n",
    "    for i in range(len(stds)):\n",
    "        # now, find the gabor\n",
    "        std = stds[i]\n",
    "        g = GaborFilter(\n",
    "            init_pos_x=pos_x[neuron],\n",
    "            init_pos_y=pos_y[neuron],\n",
    "            init_ori=orientations[neuron],\n",
    "            init_f=1.2,\n",
    "            dataset_default_ori_shift=90\n",
    "        )\n",
    "        \n",
    "        gab = train_gabor(g, meis_bm[-1], device)\n",
    "\n",
    "        # bottleneck_model, energy_model, gabor trained on bottleneck_model\n",
    "\n",
    "        # show_three_images(mei.cpu().detach().numpy(), gab.cpu().detach().numpy(), mei.cpu().detach().numpy() - gab.cpu().detach().numpy(), -1.7, 2)\n",
    "        for name, param in g.named_parameters():\n",
    "            if name == \"sigma_x\":\n",
    "                sigmas_x_bm.append(param.cpu().detach().numpy()[0])\n",
    "            if name == \"sigma_y\":\n",
    "                sigmas_y_bm.append(param.cpu().detach().numpy()[0])\n",
    "            if name == \"f\":\n",
    "                fs_bm.append(param.cpu().detach().numpy()[0])\n",
    "        \n",
    "\n",
    "        show_three_images(meis_bm[-1], meis_em[-1], gab, -1.7, 2)\n",
    "        \n",
    "        print(\"Sigmas_x\", sigmas_x_bm)\n",
    "        print(\"Sigmas_y\", sigmas_y_bm)\n",
    "        print(\"fs\", fs_bm)\n"
   ]
  }
 ],
 "metadata": {
  "kernelspec": {
   "display_name": "Python 3",
   "language": "python",
   "name": "python3"
  },
  "language_info": {
   "codemirror_mode": {
    "name": "ipython",
    "version": 3
   },
   "file_extension": ".py",
   "mimetype": "text/x-python",
   "name": "python",
   "nbconvert_exporter": "python",
   "pygments_lexer": "ipython3",
   "version": "3.8.8"
  }
 },
 "nbformat": 4,
 "nbformat_minor": 4
}
